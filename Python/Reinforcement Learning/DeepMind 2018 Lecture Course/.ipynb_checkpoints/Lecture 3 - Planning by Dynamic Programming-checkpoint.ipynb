{
 "cells": [
  {
   "cell_type": "code",
   "execution_count": 10,
   "metadata": {},
   "outputs": [
    {
     "name": "stdout",
     "output_type": "stream",
     "text": [
      "[[0. 0. 0. 0.]\n",
      " [0. 0. 0. 0.]\n",
      " [0. 0. 1. 0.]\n",
      " [0. 0. 0. 0.]]\n"
     ]
    }
   ],
   "source": [
    "import matplotlib.pyplot as plt \n",
    "import numpy as np \n",
    "\n",
    "#This toy example is just a grid-word. An example of the grid-world may be a 4x4 grid, where movment costs -1 points\n",
    "#Reacing index 0,0 means a terminal state, and all future reward is 0\n",
    "\n",
    "#The grid world is represented as zeros where nothing is present, and 1 where the agent is present\n",
    "grid = np.zeros((4,4))\n",
    "grid[2,2] = 1 \n",
    "print(grid)"
   ]
  },
  {
   "cell_type": "code",
   "execution_count": 188,
   "metadata": {},
   "outputs": [],
   "source": [
    "def index_displacement_for_action(action): \n",
    "    if action == 0: \n",
    "        return (0, -1)\n",
    "    elif action == 1: \n",
    "        return (0, 1)\n",
    "    elif action == 2: \n",
    "        return (-1, 0)\n",
    "    elif action == 3: \n",
    "        return (1, 0)\n",
    "    else:\n",
    "        return (0, 0)\n",
    "\n",
    "#Policy: the policy will be to choose a random available action \n",
    "#The actions are as follows: [up, down, left, right, nothing] = 0,1,2,3,4 indices. \n",
    "#When something in the action matrix is 1, it is possible to take this action. 0 means impossible. \n",
    "action_matrix = np.ones((4,4,5))\n",
    "action_matrix[0,:,2] = 0\n",
    "action_matrix[:,0,0] = 0\n",
    "action_matrix[:,3,1] = 0\n",
    "action_matrix[3,:,3] = 0\n",
    "action_matrix[:,:,4] = 0\n",
    "action_matrix[0,0] = np.array([0,0,0,0,1])\n",
    "action_matrix[3,3] = np.array([0,0,0,0,1])\n",
    "\n",
    "#Creating the reward matrix\n",
    "reward_matrix = np.ones((4,4))*-1\n",
    "reward_matrix[0,0] = 0\n",
    "reward_matrix[3,3] = 0\n"
   ]
  },
  {
   "cell_type": "code",
   "execution_count": 189,
   "metadata": {},
   "outputs": [],
   "source": [
    "def index_displacement_for_action(action): \n",
    "    if action == 0: \n",
    "        return (0, -1)\n",
    "    elif action == 1: \n",
    "        return (0, 1)\n",
    "    elif action == 2: \n",
    "        return (-1, 0)\n",
    "    elif action == 3: \n",
    "        return (1, 0)\n",
    "    else:\n",
    "        return (0, 0)\n",
    "    "
   ]
  },
  {
   "cell_type": "code",
   "execution_count": null,
   "metadata": {},
   "outputs": [],
   "source": []
  },
  {
   "cell_type": "code",
   "execution_count": null,
   "metadata": {},
   "outputs": [],
   "source": []
  },
  {
   "cell_type": "code",
   "execution_count": 202,
   "metadata": {},
   "outputs": [
    {
     "data": {
      "text/plain": [
       "array([[ 0., -1., -1., -1.],\n",
       "       [-1., -1., -1., -1.],\n",
       "       [-1., -1., -1., -1.],\n",
       "       [-1., -1., -1.,  0.]])"
      ]
     },
     "execution_count": 202,
     "metadata": {},
     "output_type": "execute_result"
    }
   ],
   "source": [
    "value_matrix = np.zeros((4,4))\n",
    "new_value_matrix = value_matrix.copy()\n",
    "for y in range(0,4): \n",
    "    for x in range(0,4): \n",
    "        action_possibilities = np.where(action_matrix[x,y]==1)[0]\n",
    "        action_probability = 1/len(action_possibilities) #Same probability for each action\n",
    "        \n",
    "        states = [] #States the agent can move to from current state\n",
    "        for action in action_possibilities:\n",
    "            dis = index_displacement_for_action(action)\n",
    "            states.append( (x+dis[0], y+dis[1]) )\n",
    "        \n",
    "        value = 0\n",
    "        for state in states: \n",
    "            value += value_matrix[state]*action_probability\n",
    "        new_value_matrix[x,y] = value + reward_matrix[x,y]\n",
    "        \n",
    "value_matrix = new_value_matrix.copy()\n",
    "value_matrix"
   ]
  },
  {
   "cell_type": "code",
   "execution_count": 210,
   "metadata": {},
   "outputs": [
    {
     "data": {
      "text/plain": [
       "array([[  0. , -11. , -15.5, -16.5],\n",
       "       [-11. , -14.5, -16. , -15.5],\n",
       "       [-15.5, -16. , -14.5, -11. ],\n",
       "       [-16.5, -15.5, -11. ,   0. ]])"
      ]
     },
     "execution_count": 210,
     "metadata": {},
     "output_type": "execute_result"
    }
   ],
   "source": [
    "value_matrix = np.zeros((4,4))\n",
    "new_value_matrix = value_matrix.copy()\n",
    "for i in range(10000):\n",
    "    value_matrix = new_value_matrix.copy()\n",
    "    for y in range(0,4): \n",
    "        for x in range(0,4): \n",
    "            action_possibilities = np.where(action_matrix[x,y]==1)[0]\n",
    "            action_probability = 1/len(action_possibilities) #Same probability for each action\n",
    "\n",
    "            states = [] #States the agent can move to from current state\n",
    "            for action in action_possibilities:\n",
    "                dis = index_displacement_for_action(action)\n",
    "                states.append( (x+dis[0], y+dis[1]) )\n",
    "\n",
    "            value = 0\n",
    "            for state in states: \n",
    "                value += value_matrix[state]*action_probability\n",
    "            new_value_matrix[x,y] = value + reward_matrix[x,y]\n",
    "            \n",
    "    value_matrix = new_value_matrix.copy()\n",
    "\n",
    "value_matrix"
   ]
  },
  {
   "cell_type": "code",
   "execution_count": 193,
   "metadata": {},
   "outputs": [
    {
     "data": {
      "text/plain": [
       "array([[  0. , -11. , -15.5, -16.5],\n",
       "       [-11. , -14.5, -16. , -15.5],\n",
       "       [-15.5, -16. , -14.5, -11. ],\n",
       "       [-16.5, -15.5, -11. ,   0. ]])"
      ]
     },
     "execution_count": 193,
     "metadata": {},
     "output_type": "execute_result"
    }
   ],
   "source": [
    "for i in range(1000):\n",
    "    for y in range(0,4): \n",
    "        for x in range(0,4): \n",
    "            new_value_matrix = value_matrix\n",
    "            action_possibilities = np.where(action_matrix[x,y]==1)[0]\n",
    "            action_probability = 1/len(action_possibilities) #Same probability for each action\n",
    "\n",
    "            states = []\n",
    "            for action in action_possibilities:\n",
    "                dis = index_displacement_for_action(action)\n",
    "                states.append( (x+dis[0], y+dis[1]) )\n",
    "\n",
    "            value = 0\n",
    "            for state in states: \n",
    "                value += value_matrix[state]*action_probability\n",
    "\n",
    "            new_value_matrix[x,y] = value + reward_matrix[x,y]\n",
    "\n",
    "    value_matrix = new_value_matrix\n",
    "value_matrix   "
   ]
  },
  {
   "cell_type": "code",
   "execution_count": null,
   "metadata": {},
   "outputs": [],
   "source": [
    "    "
   ]
  }
 ],
 "metadata": {
  "kernelspec": {
   "display_name": "Python 3",
   "language": "python",
   "name": "python3"
  },
  "language_info": {
   "codemirror_mode": {
    "name": "ipython",
    "version": 3
   },
   "file_extension": ".py",
   "mimetype": "text/x-python",
   "name": "python",
   "nbconvert_exporter": "python",
   "pygments_lexer": "ipython3",
   "version": "3.8.3"
  }
 },
 "nbformat": 4,
 "nbformat_minor": 4
}
