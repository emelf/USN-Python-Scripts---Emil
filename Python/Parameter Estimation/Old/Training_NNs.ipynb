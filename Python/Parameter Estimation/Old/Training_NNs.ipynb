{
 "cells": [
  {
   "cell_type": "code",
   "execution_count": 60,
   "metadata": {},
   "outputs": [],
   "source": [
    "import tensorflow as tf \n",
    "from tensorflow import keras \n",
    "from tensorflow.keras import layers \n",
    "from sklearn.model_selection import train_test_split\n",
    "from sklearn.preprocessing import MinMaxScaler\n",
    "from pickle import dump\n",
    "import numpy as np \n",
    "import matplotlib.pyplot as plt \n",
    "import datetime\n",
    "import time "
   ]
  },
  {
   "cell_type": "code",
   "execution_count": 59,
   "metadata": {},
   "outputs": [],
   "source": [
    "X_NN = np.load(\"X_NN.npy\")\n",
    "y_NN = np.load(\"y_NN.npy\")\n",
    "\n",
    "X_scaler = MinMaxScaler().fit(X_NN)\n",
    "y_scaler = MinMaxScaler().fit(y_NN)\n",
    "X_NN_scaled = X_scaler.transform(X_NN) \n",
    "y_NN_scaled = y_scaler.transform(y_NN)\n",
    "   \n",
    "X_train, X_test, y_train, y_test = train_test_split(X_NN_scaled, y_NN_scaled, test_size=0.2)"
   ]
  },
  {
   "cell_type": "code",
   "execution_count": 64,
   "metadata": {},
   "outputs": [
    {
     "name": "stdout",
     "output_type": "stream",
     "text": [
      "Model: \"sequential_7\"\n",
      "_________________________________________________________________\n",
      "Layer (type)                 Output Shape              Param #   \n",
      "=================================================================\n",
      "Layer1 (Dense)               (None, 200)               1800      \n",
      "_________________________________________________________________\n",
      "Parameter_Guesses (Dense)    (None, 6)                 1206      \n",
      "=================================================================\n",
      "Total params: 3,006\n",
      "Trainable params: 3,006\n",
      "Non-trainable params: 0\n",
      "_________________________________________________________________\n"
     ]
    }
   ],
   "source": [
    "param_AI_0 = keras.Sequential([\n",
    "    keras.Input(shape=(8,)),\n",
    "    layers.Dense(200, activation='relu', name=\"Layer1\"), \n",
    "    #layers.Dense(50, activation='relu', name=\"Layer2\"), \n",
    "    layers.Dense(6, name=\"Parameter_Guesses\")\n",
    "])\n",
    "param_AI_0.summary()\n",
    "param_AI_0.compile(optimizer='adam', loss='mse')"
   ]
  },
  {
   "cell_type": "code",
   "execution_count": 72,
   "metadata": {},
   "outputs": [
    {
     "name": "stdout",
     "output_type": "stream",
     "text": [
      "Epoch 1/50\n",
      "1250/1250 - 1s - loss: 0.0261\n",
      "Epoch 2/50\n",
      "1250/1250 - 1s - loss: 0.0260\n",
      "Epoch 3/50\n",
      "1250/1250 - 1s - loss: 0.0260\n",
      "Epoch 4/50\n",
      "1250/1250 - 1s - loss: 0.0260\n",
      "Epoch 5/50\n",
      "1250/1250 - 1s - loss: 0.0258\n",
      "Epoch 6/50\n",
      "1250/1250 - 1s - loss: 0.0258\n",
      "Epoch 7/50\n",
      "1250/1250 - 1s - loss: 0.0256\n",
      "Epoch 8/50\n",
      "1250/1250 - 1s - loss: 0.0257\n",
      "Epoch 9/50\n",
      "1250/1250 - 1s - loss: 0.0256\n",
      "Epoch 10/50\n",
      "1250/1250 - 1s - loss: 0.0255\n",
      "Epoch 11/50\n",
      "1250/1250 - 1s - loss: 0.0254\n",
      "Epoch 12/50\n",
      "1250/1250 - 2s - loss: 0.0254\n",
      "Epoch 13/50\n",
      "1250/1250 - 1s - loss: 0.0252\n",
      "Epoch 14/50\n",
      "1250/1250 - 1s - loss: 0.0253\n",
      "Epoch 15/50\n",
      "1250/1250 - 1s - loss: 0.0251\n",
      "Epoch 16/50\n",
      "1250/1250 - 1s - loss: 0.0251\n",
      "Epoch 17/50\n",
      "1250/1250 - 1s - loss: 0.0251\n",
      "Epoch 18/50\n",
      "1250/1250 - 1s - loss: 0.0250\n",
      "Epoch 19/50\n",
      "1250/1250 - 1s - loss: 0.0249\n",
      "Epoch 20/50\n",
      "1250/1250 - 1s - loss: 0.0249\n",
      "Epoch 21/50\n",
      "1250/1250 - 2s - loss: 0.0248\n",
      "Epoch 22/50\n",
      "1250/1250 - 2s - loss: 0.0247\n",
      "Epoch 23/50\n",
      "1250/1250 - 2s - loss: 0.0247\n",
      "Epoch 24/50\n",
      "1250/1250 - 1s - loss: 0.0247\n",
      "Epoch 25/50\n",
      "1250/1250 - 2s - loss: 0.0246\n",
      "Epoch 26/50\n",
      "1250/1250 - 1s - loss: 0.0246\n",
      "Epoch 27/50\n",
      "1250/1250 - 1s - loss: 0.0244\n",
      "Epoch 28/50\n",
      "1250/1250 - 1s - loss: 0.0245\n",
      "Epoch 29/50\n",
      "1250/1250 - 1s - loss: 0.0243\n",
      "Epoch 30/50\n",
      "1250/1250 - 1s - loss: 0.0243\n",
      "Epoch 31/50\n",
      "1250/1250 - 2s - loss: 0.0243\n",
      "Epoch 32/50\n",
      "1250/1250 - 1s - loss: 0.0241\n",
      "Epoch 33/50\n",
      "1250/1250 - 1s - loss: 0.0241\n",
      "Epoch 34/50\n",
      "1250/1250 - 1s - loss: 0.0241\n",
      "Epoch 35/50\n",
      "1250/1250 - 1s - loss: 0.0240\n",
      "Epoch 36/50\n",
      "1250/1250 - 1s - loss: 0.0239\n",
      "Epoch 37/50\n",
      "1250/1250 - 1s - loss: 0.0240\n",
      "Epoch 38/50\n",
      "1250/1250 - 1s - loss: 0.0238\n",
      "Epoch 39/50\n",
      "1250/1250 - 1s - loss: 0.0238\n",
      "Epoch 40/50\n",
      "1250/1250 - 1s - loss: 0.0236\n",
      "Epoch 41/50\n",
      "1250/1250 - 1s - loss: 0.0236\n",
      "Epoch 42/50\n",
      "1250/1250 - 1s - loss: 0.0236\n",
      "Epoch 43/50\n",
      "1250/1250 - 1s - loss: 0.0236\n",
      "Epoch 44/50\n",
      "1250/1250 - 1s - loss: 0.0234\n",
      "Epoch 45/50\n",
      "1250/1250 - 1s - loss: 0.0235\n",
      "Epoch 46/50\n",
      "1250/1250 - 1s - loss: 0.0234\n",
      "Epoch 47/50\n",
      "1250/1250 - 1s - loss: 0.0233\n",
      "Epoch 48/50\n",
      "1250/1250 - 1s - loss: 0.0232\n",
      "Epoch 49/50\n",
      "1250/1250 - 1s - loss: 0.0233\n",
      "Epoch 50/50\n",
      "1250/1250 - 1s - loss: 0.0232\n",
      "Training time = 59.35 seconds.\n"
     ]
    }
   ],
   "source": [
    "t1 = time.time()\n",
    "hist = param_AI_0.fit(X_train, y_train, epochs=50, verbose=2)\n",
    "hist = hist.history\n",
    "print(\"Training time = {} seconds.\".format(round(time.time()-t1,2)))"
   ]
  },
  {
   "cell_type": "code",
   "execution_count": 73,
   "metadata": {},
   "outputs": [
    {
     "data": {
      "image/png": "[encoded data removed]",
      "text/plain": [
       "<Figure size 432x288 with 1 Axes>"
      ]
     },
     "metadata": {
      "needs_background": "light"
     },
     "output_type": "display_data"
    }
   ],
   "source": [
    "loss = hist['loss']\n",
    "\n",
    "plt.plot(loss)\n",
    "plt.title('Losses')\n",
    "fig.tight_layout()\n",
    "plt.show()"
   ]
  },
  {
   "cell_type": "code",
   "execution_count": 74,
   "metadata": {},
   "outputs": [
    {
     "name": "stdout",
     "output_type": "stream",
     "text": [
      "313/313 [==============================] - 0s 1ms/step - loss: 0.0234\n"
     ]
    },
    {
     "data": {
      "text/plain": [
       "0.023414775729179382"
      ]
     },
     "execution_count": 74,
     "metadata": {},
     "output_type": "execute_result"
    }
   ],
   "source": [
    "param_AI_0.evaluate(X_test, y_test)"
   ]
  },
  {
   "cell_type": "code",
   "execution_count": 57,
   "metadata": {},
   "outputs": [
    {
     "name": "stdout",
     "output_type": "stream",
     "text": [
      "INFO:tensorflow:Assets written to: models\\model1\\assets\n"
     ]
    }
   ],
   "source": [
    "param_AI_0.save('models\\model1')\n",
    "dump(X_scaler, open('models\\X_scaler1.pkl','wb'))\n",
    "dump(y_scaler, open('models\\y_scaler1.pkl','wb'))"
   ]
  },
  {
   "cell_type": "code",
   "execution_count": null,
   "metadata": {},
   "outputs": [],
   "source": []
  },
  {
   "cell_type": "code",
   "execution_count": null,
   "metadata": {},
   "outputs": [],
   "source": []
  },
  {
   "cell_type": "code",
   "execution_count": null,
   "metadata": {},
   "outputs": [],
   "source": []
  },
  {
   "cell_type": "code",
   "execution_count": null,
   "metadata": {},
   "outputs": [],
   "source": []
  },
  {
   "cell_type": "code",
   "execution_count": null,
   "metadata": {},
   "outputs": [],
   "source": []
  }
 ],
 "metadata": {
  "kernelspec": {
   "display_name": "Python 3",
   "language": "python",
   "name": "python3"
  },
  "language_info": {
   "codemirror_mode": {
    "name": "ipython",
    "version": 3
   },
   "file_extension": ".py",
   "mimetype": "text/x-python",
   "name": "python",
   "nbconvert_exporter": "python",
   "pygments_lexer": "ipython3",
   "version": "3.8.3"
  }
 },
 "nbformat": 4,
 "nbformat_minor": 4
}
