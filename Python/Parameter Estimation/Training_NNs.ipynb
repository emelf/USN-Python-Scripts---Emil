{
 "cells": [
  {
   "cell_type": "code",
   "execution_count": 5,
   "metadata": {},
   "outputs": [
    {
     "name": "stderr",
     "output_type": "stream",
     "text": [
      "<frozen importlib._bootstrap>:219: RuntimeWarning: numpy.ufunc size changed, may indicate binary incompatibility. Expected 192 from C header, got 216 from PyObject\n"
     ]
    }
   ],
   "source": [
    "import tensorflow as tf \n",
    "from tensorflow import keras \n",
    "from tensorflow.keras import layers \n",
    "from sklearn.model_selection import train_test_split\n",
    "import numpy as np \n",
    "import matplotlib.pyplot as plt "
   ]
  },
  {
   "cell_type": "code",
   "execution_count": 19,
   "metadata": {},
   "outputs": [],
   "source": [
    "X_NN = np.load(\"X_NN_case1.npy\")\n",
    "y_NN = np.load(\"y_NN_case1.npy\")\n",
    "\n",
    "#Normalize data \n",
    "X_NN_norm = X_NN.copy()\n",
    "for i, x in enumerate(X_NN.T): \n",
    "    X_NN_norm[:, i] = (x.max() - X_NN_norm[:, i])/(x.max() - x.min())\n",
    "    \n",
    "y_NN_norm = y_NN.copy()\n",
    "for i, y in enumerate(y_NN.T): \n",
    "    y_NN_norm[:, i] = (y.max() - y_NN_norm[:, i])/(y.max() - y.min())\n",
    "    \n",
    "X_train, X_test, y_train, y_test = train_test_split(X_NN, y_NN, test_size=0.2)"
   ]
  },
  {
   "cell_type": "code",
   "execution_count": 64,
   "metadata": {},
   "outputs": [
    {
     "name": "stdout",
     "output_type": "stream",
     "text": [
      "Model: \"sequential_13\"\n",
      "_________________________________________________________________\n",
      "Layer (type)                 Output Shape              Param #   \n",
      "=================================================================\n",
      "Layer1 (Dense)               (None, 1000)              9000      \n",
      "_________________________________________________________________\n",
      "Layer2 (Dense)               (None, 400)               400400    \n",
      "_________________________________________________________________\n",
      "Layer3 (Dense)               (None, 50)                20050     \n",
      "_________________________________________________________________\n",
      "Parameter_Guesses (Dense)    (None, 6)                 306       \n",
      "=================================================================\n",
      "Total params: 429,756\n",
      "Trainable params: 429,756\n",
      "Non-trainable params: 0\n",
      "_________________________________________________________________\n"
     ]
    }
   ],
   "source": [
    "param_AI_0 = keras.Sequential([\n",
    "    keras.Input(shape=(8,)),\n",
    "    layers.Dense(1000, activation='relu', name=\"Layer1\"), \n",
    "    layers.Dense(400, activation='relu', name=\"Layer2\"), \n",
    "    layers.Dense(50, activation='relu', name=\"Layer3\"),\n",
    "    layers.Dense(6, name=\"Parameter_Guesses\")\n",
    "])\n",
    "param_AI_0.summary()\n",
    "param_AI_0.compile(optimizer='adam', loss='mse')\n"
   ]
  },
  {
   "cell_type": "code",
   "execution_count": 69,
   "metadata": {},
   "outputs": [
    {
     "name": "stdout",
     "output_type": "stream",
     "text": [
      "Epoch 1/10\n",
      "37500/37500 [==============================] - 130s 3ms/step - loss: 0.0177\n",
      "Epoch 2/10\n",
      "37500/37500 [==============================] - 127s 3ms/step - loss: 0.0173\n",
      "Epoch 3/10\n",
      "37500/37500 [==============================] - 125s 3ms/step - loss: 0.0170\n",
      "Epoch 4/10\n",
      "37500/37500 [==============================] - 131s 3ms/step - loss: 0.0167\n",
      "Epoch 5/10\n",
      "37500/37500 [==============================] - 131s 3ms/step - loss: 0.0164\n",
      "Epoch 6/10\n",
      "37500/37500 [==============================] - 131s 3ms/step - loss: 0.0161\n",
      "Epoch 7/10\n",
      "37500/37500 [==============================] - 125s 3ms/step - loss: 0.0159\n",
      "Epoch 8/10\n",
      "37500/37500 [==============================] - 124s 3ms/step - loss: 0.0156\n",
      "Epoch 9/10\n",
      "37500/37500 [==============================] - 128s 3ms/step - loss: 0.0155\n",
      "Epoch 10/10\n",
      "37500/37500 [==============================] - 130s 3ms/step - loss: 0.0153\n"
     ]
    }
   ],
   "source": [
    "hist = param_AI_0.fit(X_NN_norm, y_NN_norm, epochs=10)"
   ]
  },
  {
   "cell_type": "code",
   "execution_count": 74,
   "metadata": {},
   "outputs": [
    {
     "data": {
      "text/plain": [
       "[<matplotlib.lines.Line2D at 0x272ceac05e0>]"
      ]
     },
     "execution_count": 74,
     "metadata": {},
     "output_type": "execute_result"
    },
    {
     "data": {
      "image/png": "[encoded data removed]",
      "text/plain": [
       "<Figure size 432x288 with 1 Axes>"
      ]
     },
     "metadata": {
      "needs_background": "light"
     },
     "output_type": "display_data"
    }
   ],
   "source": [
    "plt.plot(hist.history['loss'])"
   ]
  },
  {
   "cell_type": "code",
   "execution_count": 72,
   "metadata": {},
   "outputs": [],
   "source": [
    "X_NN_test = np.load(\"X_NN_case1_test.npy\")\n",
    "y_NN_test = np.load(\"y_NN_case1_test.npy\")\n",
    "\n",
    "#Normalize data \n",
    "X_NN_norm_test = X_NN_test.copy()\n",
    "for i, x in enumerate(X_NN.T): \n",
    "    X_NN_norm_test[:, i] = (x.max() - X_NN_norm_test[:, i])/(x.max() - x.min())\n",
    "    \n",
    "y_NN_norm_test = y_NN_test.copy()\n",
    "for i, y in enumerate(y_NN.T): \n",
    "    y_NN_norm_test[:, i] = (y.max() - y_NN_norm_test[:, i])/(y.max() - y.min())"
   ]
  },
  {
   "cell_type": "code",
   "execution_count": 75,
   "metadata": {},
   "outputs": [
    {
     "name": "stdout",
     "output_type": "stream",
     "text": [
      "3750/3750 [==============================] - 4s 1ms/step - loss: 0.0450\n"
     ]
    },
    {
     "data": {
      "text/plain": [
       "0.04500354453921318"
      ]
     },
     "execution_count": 75,
     "metadata": {},
     "output_type": "execute_result"
    }
   ],
   "source": [
    "param_AI_0.evaluate(X_NN_norm_test, y_NN_norm_test)"
   ]
  },
  {
   "cell_type": "code",
   "execution_count": 80,
   "metadata": {},
   "outputs": [],
   "source": [
    "predictions = param_AI_0.predict(X_NN_norm_test)"
   ]
  },
  {
   "cell_type": "code",
   "execution_count": 106,
   "metadata": {},
   "outputs": [],
   "source": [
    "#Unnormalize data \n",
    "def unnormalize(X):\n",
    "    X_new = []\n",
    "    y_new = []\n",
    "    for x, x_ in zip(X_NN.T, X): \n",
    "        X_new.append(x.max() - x_*(x.max() - x.min()))\n",
    "        #y_new.append(y.max() - y*(y.max() - y.min()))\n",
    "    return X_new"
   ]
  },
  {
   "cell_type": "code",
   "execution_count": 115,
   "metadata": {},
   "outputs": [
    {
     "name": "stdout",
     "output_type": "stream",
     "text": [
      "Model predicts:[[0.48558357 0.17924714 0.21325742 0.5386102  0.5706489  0.54048264]]\n",
      "Actual answer = [0.47466518 0.17798124 0.045661   0.57438871 0.55898084 0.74161272]\n"
     ]
    }
   ],
   "source": [
    "i = 20\n",
    "pred = param_AI_0.predict(np.array([X_NN_norm_test[i]]))\n",
    "print(\"Model predicts:{}\".format(pred))\n",
    "print(\"Actual answer = {}\".format(y_NN_norm_test[i]))"
   ]
  },
  {
   "cell_type": "code",
   "execution_count": 116,
   "metadata": {},
   "outputs": [
    {
     "data": {
      "text/plain": [
       "array([[0.47466518, 0.17798124, 0.045661  , 0.57438871, 0.55898084,\n",
       "        0.74161272],\n",
       "       [0.47466518, 0.17798124, 0.045661  , 0.57438871, 0.55898084,\n",
       "        0.74161272],\n",
       "       [0.47466518, 0.17798124, 0.045661  , 0.57438871, 0.55898084,\n",
       "        0.74161272],\n",
       "       ...,\n",
       "       [0.75984802, 0.0016062 , 0.99765524, 0.47724288, 0.49345577,\n",
       "        0.88118121],\n",
       "       [0.75984802, 0.0016062 , 0.99765524, 0.47724288, 0.49345577,\n",
       "        0.88118121],\n",
       "       [0.47466518, 0.17798124, 0.045661  , 0.57438871, 0.55898084,\n",
       "        0.74161272]])"
      ]
     },
     "execution_count": 116,
     "metadata": {},
     "output_type": "execute_result"
    }
   ],
   "source": [
    "y_NN_norm_test"
   ]
  }
 ],
 "metadata": {
  "kernelspec": {
   "display_name": "Python 3",
   "language": "python",
   "name": "python3"
  },
  "language_info": {
   "codemirror_mode": {
    "name": "ipython",
    "version": 3
   },
   "file_extension": ".py",
   "mimetype": "text/x-python",
   "name": "python",
   "nbconvert_exporter": "python",
   "pygments_lexer": "ipython3",
   "version": "3.8.3"
  }
 },
 "nbformat": 4,
 "nbformat_minor": 4
}
