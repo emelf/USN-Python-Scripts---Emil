{
 "cells": [
  {
   "cell_type": "code",
   "execution_count": 1,
   "metadata": {},
   "outputs": [],
   "source": [
    "import numpy as np \n",
    "import scipy as sp \n",
    "import matplotlib.pyplot as plt \n",
    "import pandas as pd \n",
    "from sklearn.preprocessing import MinMaxScaler\n",
    "\n",
    "#x = [T_m, T_c]\n",
    "#u = [Q_in, T_env]\n",
    "#theta = [C_m, C_c, hA_m2c, hA_m2env, hA_eff, mda]\n",
    "chp_air = 1000 #J/kg/K\n",
    "\n",
    "def RK4_solver(f, x0, t0, t1, N, u, theta):\n",
    "    dt = (t1-t0)/N\n",
    "    t = np.linspace(t0, t1, N)\n",
    "    x_solved = np.zeros((N+1, len(x0)))\n",
    "    dx_solved = np.zeros((N, len(x0)))\n",
    "    x_solved[0] = x0\n",
    "    for i in range(N): \n",
    "        K1 = f(x_solved[i], u[i], theta) #Make sure f returns an array of shape (2,)\n",
    "        K2 = f(x_solved[i]+K1/2, u[i], theta)\n",
    "        K3 = f(x_solved[i]+K2/2, u[i], theta)\n",
    "        K4 = f(x_solved[i]+K3, u[i], theta)\n",
    "        K = K1/6 + K2/3 + K3/3 + K4/6\n",
    "        x_solved[i+1] = x_solved[i] + K*dt\n",
    "        dx_solved[i] = K\n",
    "    return x_solved[:-1], dx_solved\n",
    "\n",
    "def dxdt(x, u, theta): \n",
    "    Q_HE = theta[5]*chp_air*(1-np.exp(-theta[4]/(theta[5]*chp_air)))*(x[1]-u[1])\n",
    "    dTm_dt = (u[0]-theta[2]*(x[0]-x[1])-theta[3]*(x[0]-u[1]))/theta[0]\n",
    "    dTc_dt = (theta[2]*(x[0]-x[1])-Q_HE)/theta[1]\n",
    "    return np.array([dTm_dt, dTc_dt])\n",
    "\n",
    "def find_input_vals(u_range, N, change=0.01):\n",
    "    #u_range = [(u1_min, u1_max), (u2_min, u2_max)]\n",
    "    u1 = np.zeros(N)\n",
    "    u2 = np.zeros(N)\n",
    "    u1_rand = np.random.uniform(u_range[0][0], u_range[0][1])\n",
    "    u2_rand = np.random.uniform(u_range[1][0], u_range[1][1])\n",
    "    for i in range(0, N): \n",
    "        ch = np.random.uniform(0, 1)\n",
    "        u1[i] = u1_rand\n",
    "        u2[i] = u2_rand\n",
    "        if ch < change: \n",
    "            u1_rand = np.random.uniform(u_range[0][0], u_range[0][1])\n",
    "            #u2_rand = np.random.uniform(u_range[1][0], u_range[1][1])\n",
    "            \n",
    "    return np.array([u1, u2]).T\n",
    "    \n"
   ]
  },
  {
   "cell_type": "code",
   "execution_count": 2,
   "metadata": {},
   "outputs": [
    {
     "name": "stdout",
     "output_type": "stream",
     "text": [
      "Total datapoints should end up being: 50000, with 500 simulations.\n",
      "Simulation number  0\n",
      "Simulation number  100\n",
      "Simulation number  200\n",
      "Simulation number  300\n",
      "Simulation number  400\n",
      "X_shape: (50000, 8), y_shape: (50000, 6)\n"
     ]
    }
   ],
   "source": [
    "t0 = 0 \n",
    "t1 = 200 #s \n",
    "N = 2000\n",
    "jump_el = 20 #How many steps before storing a value as NN input\n",
    "t = np.linspace(t0, t1, N)\n",
    "\n",
    "N_tot_points = 50000\n",
    "N_sim = int(N_tot_points/(N/jump_el))\n",
    "print(\"Total datapoints should end up being: {}, with {} simulations.\".format(int(N/jump_el)*N_sim, N_sim))\n",
    "\n",
    "\n",
    "x0_range = [(10, 70), (10, 70)] #T_m0 = T_c0\n",
    "u_range = [(0, 30), (10, 30)]\n",
    "theta_range = [(100, 800), (40, 400), (5,20), (0.1,1), (1,5), (0.3, 1.2)]\n",
    "\n",
    "X_NN = np.zeros((N_sim*int(N/jump_el), 8)) #NN 8 inputs: [x1, x1, dx1, dx2, u1, u2, Cm, Cc]\n",
    "y_NN = np.zeros((N_sim*int(N/jump_el), 6)) #NN 6 outputs (all parameters also considering Cm and Cc)\n",
    "\n",
    "for i in range(N_sim): \n",
    "    if i % 100 == 0: \n",
    "        print(\"Simulation number \", i)\n",
    "    theta = np.array([np.random.uniform(th[0], th[1]) for th in theta_range])\n",
    "    #Find two values to oscillate between for inputs    \n",
    "    x0 = np.array([0,0])\n",
    "    x0[0] = np.random.uniform(x0_range[0][0], x0_range[0][1])\n",
    "    x0[1] = x0[0] + np.random.normal(5)\n",
    "    u_in = find_input_vals(u_range, N, change=0.005)\n",
    "    x_sol, dx_sol = RK4_solver(dxdt, x0, t0, t1, N, u_in, theta)\n",
    "    \n",
    "    #Storing values in arrays\n",
    "    x_sol = x_sol[::jump_el]\n",
    "    dx_sol = dx_sol[::jump_el]\n",
    "    u_in = u_in[::jump_el]\n",
    "    j = 0\n",
    "    for x, dx, u in zip(x_sol, dx_sol, u_in): \n",
    "        X_NN[i*len(x_sol)-1+j][0] = x[0]\n",
    "        X_NN[i*len(x_sol)-1+j][1] = x[1]\n",
    "        X_NN[i*len(x_sol)-1+j][2] = dx[0]\n",
    "        X_NN[i*len(x_sol)-1+j][3] = dx[1]\n",
    "        X_NN[i*len(x_sol)-1+j][4] = u[0]\n",
    "        X_NN[i*len(x_sol)-1+j][5] = u[1]\n",
    "        X_NN[i*len(x_sol)-1+j][6] = theta[0]\n",
    "        X_NN[i*len(x_sol)-1+j][7] = theta[1]\n",
    "        \n",
    "        y_NN[i*len(x_sol)-1+j][0] = theta[0]\n",
    "        y_NN[i*len(x_sol)-1+j][1] = theta[1]\n",
    "        y_NN[i*len(x_sol)-1+j][2] = theta[2]\n",
    "        y_NN[i*len(x_sol)-1+j][3] = theta[3]\n",
    "        y_NN[i*len(x_sol)-1+j][4] = theta[4]\n",
    "        y_NN[i*len(x_sol)-1+j][5] = theta[5]\n",
    "        j += 1\n",
    "        \n",
    "print(\"X_shape: {}, y_shape: {}\".format(X_NN.shape, y_NN.shape))"
   ]
  },
  {
   "cell_type": "code",
   "execution_count": 5,
   "metadata": {},
   "outputs": [],
   "source": [
    "np.save(\"X_NN\", X_NN)\n",
    "np.save(\"y_NN\", y_NN)"
   ]
  },
  {
   "cell_type": "code",
   "execution_count": 361,
   "metadata": {},
   "outputs": [],
   "source": [
    "X_NN_loaded = np.load(\"X_NN_case1.npy\")\n",
    "y_NN_loaded = np.load(\"y_NN_case1.npy\")"
   ]
  },
  {
   "cell_type": "code",
   "execution_count": 6,
   "metadata": {},
   "outputs": [
    {
     "data": {
      "image/png": "[encoded data removed]",
      "text/plain": [
       "<Figure size 432x288 with 1 Axes>"
      ]
     },
     "metadata": {
      "needs_background": "light"
     },
     "output_type": "display_data"
    }
   ],
   "source": [
    "plt.plot(x_sol)\n",
    "plt.show()"
   ]
  },
  {
   "cell_type": "code",
   "execution_count": 7,
   "metadata": {},
   "outputs": [
    {
     "data": {
      "text/plain": [
       "[<matplotlib.lines.Line2D at 0x14573226040>,\n",
       " <matplotlib.lines.Line2D at 0x14573226130>]"
      ]
     },
     "execution_count": 7,
     "metadata": {},
     "output_type": "execute_result"
    },
    {
     "data": {
      "image/png": "[encoded data removed]",
      "text/plain": [
       "<Figure size 432x288 with 1 Axes>"
      ]
     },
     "metadata": {
      "needs_background": "light"
     },
     "output_type": "display_data"
    }
   ],
   "source": [
    "plt.plot(u_in)"
   ]
  },
  {
   "cell_type": "code",
   "execution_count": 80,
   "metadata": {},
   "outputs": [
    {
     "data": {
      "text/plain": [
       "[<matplotlib.lines.Line2D at 0x29cb8e95220>,\n",
       " <matplotlib.lines.Line2D at 0x29cb8e95310>]"
      ]
     },
     "execution_count": 80,
     "metadata": {},
     "output_type": "execute_result"
    },
    {
     "data": {
      "image/png": "[encoded data removed]",
      "text/plain": [
       "<Figure size 432x288 with 1 Axes>"
      ]
     },
     "metadata": {
      "needs_background": "light"
     },
     "output_type": "display_data"
    }
   ],
   "source": [
    "plt.plot(dx_sol)"
   ]
  },
  {
   "cell_type": "code",
   "execution_count": null,
   "metadata": {},
   "outputs": [],
   "source": []
  },
  {
   "cell_type": "code",
   "execution_count": null,
   "metadata": {},
   "outputs": [],
   "source": []
  },
  {
   "cell_type": "code",
   "execution_count": null,
   "metadata": {},
   "outputs": [],
   "source": []
  }
 ],
 "metadata": {
  "kernelspec": {
   "display_name": "Python 3",
   "language": "python",
   "name": "python3"
  },
  "language_info": {
   "codemirror_mode": {
    "name": "ipython",
    "version": 3
   },
   "file_extension": ".py",
   "mimetype": "text/x-python",
   "name": "python",
   "nbconvert_exporter": "python",
   "pygments_lexer": "ipython3",
   "version": "3.8.3"
  }
 },
 "nbformat": 4,
 "nbformat_minor": 4
}
