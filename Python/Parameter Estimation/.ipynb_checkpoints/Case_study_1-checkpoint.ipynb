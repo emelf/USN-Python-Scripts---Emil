{
 "cells": [
  {
   "cell_type": "code",
   "execution_count": 1,
   "metadata": {},
   "outputs": [],
   "source": [
    "import numpy as np \n",
    "from data_and_models import *\n",
    "import pickle \n",
    "import matplotlib.pyplot as plt \n",
    "import os\n",
    "import time \n",
    "import tensorflow as tf"
   ]
  },
  {
   "cell_type": "code",
   "execution_count": 2,
   "metadata": {},
   "outputs": [],
   "source": [
    "#x = [T_m, T_c]\n",
    "#u = [Q_in, T_env]\n",
    "#theta = [C_m, C_c, hA_m2c, hA_m2env, hA_eff, mda]\n",
    "\n",
    "chp_air = 1000 \n",
    "Q_HE = lambda x, u, theta: theta[5]*chp_air*(1-np.exp(-theta[4]/(theta[5]*chp_air)))*(x[1]-u[1])\n",
    "dTm_dt = lambda x, u, theta: (u[0]-theta[2]*(x[0]-x[1])-theta[3]*(x[0]-u[1]))/theta[0]\n",
    "dTc_dt = lambda x, u, theta: (theta[2]*(x[0]-x[1])-Q_HE(x,u,theta))/theta[1]\n",
    "\n",
    "dxdt = lambda x,u,theta: np.array([dTm_dt(x,u,theta), dTc_dt(x,u,theta)])\n",
    "f_x = lambda x,u,theta: np.array([Q_HE(x,u,theta)])\n",
    "\n",
    "x0_range = [(20, 60), (20, 60)]\n",
    "u_range = [(0, 30), (20, 30)]\n",
    "theta_range = [(100, 800), (40, 400), (5,20), (0.1,1), (1,5), (0.3, 1.2)]\n",
    "\n",
    "model = dynamical_model(dxdt, f_x)\n",
    "model.setup(0, 60, 600, 20, x0_range, u_range, theta_range)"
   ]
  },
  {
   "cell_type": "code",
   "execution_count": 3,
   "metadata": {},
   "outputs": [],
   "source": [
    "data_model = generate_data(model) \n",
    "X_NN, y_NN = data_model.load_data(\"Training_data/X_data.npy\", \"Training_data/y_data.npy\") #Used to tune the scalers for the generators\n",
    "#X_NN, y_NN = data_model.solve_N(2e5, \"X_data.npy\", \"y_data.npy\")\n",
    "X_train, X_test, y_train, y_test, X_NN_scaled, y_NN_scaled = data_model.prepare_data(X_NN, y_NN) #Tune the data model\n",
    "\n",
    "#Move Cm and Cc from y to X: \n",
    "# X_NN = np.append(X_NN.T, y_NN.T[:2], axis=0).T\n",
    "# y_NN = y_NN[:,2:]\n",
    "\n",
    "handler = handle_NNs(len(X_train[0,:]), len(y_train[0,:]), data_model)"
   ]
  },
  {
   "cell_type": "code",
   "execution_count": 8,
   "metadata": {},
   "outputs": [
    {
     "data": {
      "text/html": [
       "<span style=\"color:#4527A0\"><h1 style=\"font-size:18px\">Search space summary</h1></span>"
      ],
      "text/plain": [
       "<IPython.core.display.HTML object>"
      ]
     },
     "metadata": {},
     "output_type": "display_data"
    },
    {
     "data": {
      "text/html": [
       "<span style=\"color:cyan\"> |-Default search space size: 3</span>"
      ],
      "text/plain": [
       "<IPython.core.display.HTML object>"
      ]
     },
     "metadata": {},
     "output_type": "display_data"
    },
    {
     "data": {
      "text/html": [
       "<span style=\"color:#7E57C2\"><h2 style=\"font-size:16px\">n_starting_nodes (Int)</h2></span>"
      ],
      "text/plain": [
       "<IPython.core.display.HTML object>"
      ]
     },
     "metadata": {},
     "output_type": "display_data"
    },
    {
     "data": {
      "text/html": [
       "<span style=\"color:cyan\"> |-default: None</span>"
      ],
      "text/plain": [
       "<IPython.core.display.HTML object>"
      ]
     },
     "metadata": {},
     "output_type": "display_data"
    },
    {
     "data": {
      "text/html": [
       "<span style=\"color:blue\"> |-max_value: 400</span>"
      ],
      "text/plain": [
       "<IPython.core.display.HTML object>"
      ]
     },
     "metadata": {},
     "output_type": "display_data"
    },
    {
     "data": {
      "text/html": [
       "<span style=\"color:cyan\"> |-min_value: 10</span>"
      ],
      "text/plain": [
       "<IPython.core.display.HTML object>"
      ]
     },
     "metadata": {},
     "output_type": "display_data"
    },
    {
     "data": {
      "text/html": [
       "<span style=\"color:blue\"> |-sampling: None</span>"
      ],
      "text/plain": [
       "<IPython.core.display.HTML object>"
      ]
     },
     "metadata": {},
     "output_type": "display_data"
    },
    {
     "data": {
      "text/html": [
       "<span style=\"color:cyan\"> |-step: 20</span>"
      ],
      "text/plain": [
       "<IPython.core.display.HTML object>"
      ]
     },
     "metadata": {},
     "output_type": "display_data"
    },
    {
     "data": {
      "text/html": [
       "<span style=\"color:#7E57C2\"><h2 style=\"font-size:16px\">n_layers (Int)</h2></span>"
      ],
      "text/plain": [
       "<IPython.core.display.HTML object>"
      ]
     },
     "metadata": {},
     "output_type": "display_data"
    },
    {
     "data": {
      "text/html": [
       "<span style=\"color:cyan\"> |-default: None</span>"
      ],
      "text/plain": [
       "<IPython.core.display.HTML object>"
      ]
     },
     "metadata": {},
     "output_type": "display_data"
    },
    {
     "data": {
      "text/html": [
       "<span style=\"color:blue\"> |-max_value: 10</span>"
      ],
      "text/plain": [
       "<IPython.core.display.HTML object>"
      ]
     },
     "metadata": {},
     "output_type": "display_data"
    },
    {
     "data": {
      "text/html": [
       "<span style=\"color:cyan\"> |-min_value: 1</span>"
      ],
      "text/plain": [
       "<IPython.core.display.HTML object>"
      ]
     },
     "metadata": {},
     "output_type": "display_data"
    },
    {
     "data": {
      "text/html": [
       "<span style=\"color:blue\"> |-sampling: None</span>"
      ],
      "text/plain": [
       "<IPython.core.display.HTML object>"
      ]
     },
     "metadata": {},
     "output_type": "display_data"
    },
    {
     "data": {
      "text/html": [
       "<span style=\"color:cyan\"> |-step: 2</span>"
      ],
      "text/plain": [
       "<IPython.core.display.HTML object>"
      ]
     },
     "metadata": {},
     "output_type": "display_data"
    },
    {
     "data": {
      "text/html": [
       "<span style=\"color:#7E57C2\"><h2 style=\"font-size:16px\">learning_rate (Choice)</h2></span>"
      ],
      "text/plain": [
       "<IPython.core.display.HTML object>"
      ]
     },
     "metadata": {},
     "output_type": "display_data"
    },
    {
     "data": {
      "text/html": [
       "<span style=\"color:cyan\"> |-default: 0.001</span>"
      ],
      "text/plain": [
       "<IPython.core.display.HTML object>"
      ]
     },
     "metadata": {},
     "output_type": "display_data"
    },
    {
     "data": {
      "text/html": [
       "<span style=\"color:blue\"> |-ordered: True</span>"
      ],
      "text/plain": [
       "<IPython.core.display.HTML object>"
      ]
     },
     "metadata": {},
     "output_type": "display_data"
    },
    {
     "data": {
      "text/html": [
       "<span style=\"color:cyan\"> |-values: [0.001, 0.0001]</span>"
      ],
      "text/plain": [
       "<IPython.core.display.HTML object>"
      ]
     },
     "metadata": {},
     "output_type": "display_data"
    },
    {
     "name": "stdout",
     "output_type": "stream",
     "text": [
      "Epoch 1/2\n",
      "625/625 - 2s - loss: 0.1069 - accuracy: 0.1717 - val_loss: 0.0834 - val_accuracy: 0.1710\n",
      "Epoch 2/2\n",
      "625/625 - 2s - loss: 0.0861 - accuracy: 0.1776 - val_loss: 0.0825 - val_accuracy: 0.1845\n"
     ]
    },
    {
     "data": {
      "text/html": [
       "<span style=\"color:#4527A0\"><h1 style=\"font-size:18px\">Trial complete</h1></span>"
      ],
      "text/plain": [
       "<IPython.core.display.HTML object>"
      ]
     },
     "metadata": {},
     "output_type": "display_data"
    },
    {
     "data": {
      "text/html": [
       "<span style=\"color:#4527A0\"><h1 style=\"font-size:18px\">Trial summary</h1></span>"
      ],
      "text/plain": [
       "<IPython.core.display.HTML object>"
      ]
     },
     "metadata": {},
     "output_type": "display_data"
    },
    {
     "data": {
      "text/html": [
       "<span style=\"color:cyan\"> |-Trial ID: bf46a3cf0b77ea9f00f4bdaa73cafc2e</span>"
      ],
      "text/plain": [
       "<IPython.core.display.HTML object>"
      ]
     },
     "metadata": {},
     "output_type": "display_data"
    },
    {
     "data": {
      "text/html": [
       "<span style=\"color:cyan\"> |-Score: 0.08250335603952408</span>"
      ],
      "text/plain": [
       "<IPython.core.display.HTML object>"
      ]
     },
     "metadata": {},
     "output_type": "display_data"
    },
    {
     "data": {
      "text/html": [
       "<span style=\"color:cyan\"> |-Best step: 0</span>"
      ],
      "text/plain": [
       "<IPython.core.display.HTML object>"
      ]
     },
     "metadata": {},
     "output_type": "display_data"
    },
    {
     "data": {
      "text/html": [
       "<span style=\"color:#7E57C2\"><h2 style=\"font-size:16px\">Hyperparameters:</h2></span>"
      ],
      "text/plain": [
       "<IPython.core.display.HTML object>"
      ]
     },
     "metadata": {},
     "output_type": "display_data"
    },
    {
     "data": {
      "text/html": [
       "<span style=\"color:cyan\"> |-learning_rate: 0.001</span>"
      ],
      "text/plain": [
       "<IPython.core.display.HTML object>"
      ]
     },
     "metadata": {},
     "output_type": "display_data"
    },
    {
     "data": {
      "text/html": [
       "<span style=\"color:blue\"> |-n_layers: 3</span>"
      ],
      "text/plain": [
       "<IPython.core.display.HTML object>"
      ]
     },
     "metadata": {},
     "output_type": "display_data"
    },
    {
     "data": {
      "text/html": [
       "<span style=\"color:cyan\"> |-n_starting_nodes: 50</span>"
      ],
      "text/plain": [
       "<IPython.core.display.HTML object>"
      ]
     },
     "metadata": {},
     "output_type": "display_data"
    },
    {
     "data": {
      "text/html": [
       "<span style=\"color:blue\"> |-tuner/bracket: 1</span>"
      ],
      "text/plain": [
       "<IPython.core.display.HTML object>"
      ]
     },
     "metadata": {},
     "output_type": "display_data"
    },
    {
     "data": {
      "text/html": [
       "<span style=\"color:cyan\"> |-tuner/epochs: 2</span>"
      ],
      "text/plain": [
       "<IPython.core.display.HTML object>"
      ]
     },
     "metadata": {},
     "output_type": "display_data"
    },
    {
     "data": {
      "text/html": [
       "<span style=\"color:blue\"> |-tuner/initial_epoch: 0</span>"
      ],
      "text/plain": [
       "<IPython.core.display.HTML object>"
      ]
     },
     "metadata": {},
     "output_type": "display_data"
    },
    {
     "data": {
      "text/html": [
       "<span style=\"color:cyan\"> |-tuner/round: 0</span>"
      ],
      "text/plain": [
       "<IPython.core.display.HTML object>"
      ]
     },
     "metadata": {},
     "output_type": "display_data"
    },
    {
     "name": "stdout",
     "output_type": "stream",
     "text": [
      "Epoch 1/2\n",
      "625/625 - 2s - loss: 0.1151 - accuracy: 0.1672 - val_loss: 0.0835 - val_accuracy: 0.1690\n",
      "Epoch 2/2\n",
      "625/625 - 2s - loss: 0.0864 - accuracy: 0.1687 - val_loss: 0.0831 - val_accuracy: 0.1645\n"
     ]
    },
    {
     "data": {
      "text/html": [
       "<span style=\"color:#4527A0\"><h1 style=\"font-size:18px\">Trial complete</h1></span>"
      ],
      "text/plain": [
       "<IPython.core.display.HTML object>"
      ]
     },
     "metadata": {},
     "output_type": "display_data"
    },
    {
     "data": {
      "text/html": [
       "<span style=\"color:#4527A0\"><h1 style=\"font-size:18px\">Trial summary</h1></span>"
      ],
      "text/plain": [
       "<IPython.core.display.HTML object>"
      ]
     },
     "metadata": {},
     "output_type": "display_data"
    },
    {
     "data": {
      "text/html": [
       "<span style=\"color:cyan\"> |-Trial ID: c476974718b9c410799cade8ae8eff43</span>"
      ],
      "text/plain": [
       "<IPython.core.display.HTML object>"
      ]
     },
     "metadata": {},
     "output_type": "display_data"
    },
    {
     "data": {
      "text/html": [
       "<span style=\"color:cyan\"> |-Score: 0.08307566493749619</span>"
      ],
      "text/plain": [
       "<IPython.core.display.HTML object>"
      ]
     },
     "metadata": {},
     "output_type": "display_data"
    },
    {
     "data": {
      "text/html": [
       "<span style=\"color:cyan\"> |-Best step: 0</span>"
      ],
      "text/plain": [
       "<IPython.core.display.HTML object>"
      ]
     },
     "metadata": {},
     "output_type": "display_data"
    },
    {
     "data": {
      "text/html": [
       "<span style=\"color:#7E57C2\"><h2 style=\"font-size:16px\">Hyperparameters:</h2></span>"
      ],
      "text/plain": [
       "<IPython.core.display.HTML object>"
      ]
     },
     "metadata": {},
     "output_type": "display_data"
    },
    {
     "data": {
      "text/html": [
       "<span style=\"color:cyan\"> |-learning_rate: 0.001</span>"
      ],
      "text/plain": [
       "<IPython.core.display.HTML object>"
      ]
     },
     "metadata": {},
     "output_type": "display_data"
    },
    {
     "data": {
      "text/html": [
       "<span style=\"color:blue\"> |-n_layers: 5</span>"
      ],
      "text/plain": [
       "<IPython.core.display.HTML object>"
      ]
     },
     "metadata": {},
     "output_type": "display_data"
    },
    {
     "data": {
      "text/html": [
       "<span style=\"color:cyan\"> |-n_starting_nodes: 30</span>"
      ],
      "text/plain": [
       "<IPython.core.display.HTML object>"
      ]
     },
     "metadata": {},
     "output_type": "display_data"
    },
    {
     "data": {
      "text/html": [
       "<span style=\"color:blue\"> |-tuner/bracket: 1</span>"
      ],
      "text/plain": [
       "<IPython.core.display.HTML object>"
      ]
     },
     "metadata": {},
     "output_type": "display_data"
    },
    {
     "data": {
      "text/html": [
       "<span style=\"color:cyan\"> |-tuner/epochs: 2</span>"
      ],
      "text/plain": [
       "<IPython.core.display.HTML object>"
      ]
     },
     "metadata": {},
     "output_type": "display_data"
    },
    {
     "data": {
      "text/html": [
       "<span style=\"color:blue\"> |-tuner/initial_epoch: 0</span>"
      ],
      "text/plain": [
       "<IPython.core.display.HTML object>"
      ]
     },
     "metadata": {},
     "output_type": "display_data"
    },
    {
     "data": {
      "text/html": [
       "<span style=\"color:cyan\"> |-tuner/round: 0</span>"
      ],
      "text/plain": [
       "<IPython.core.display.HTML object>"
      ]
     },
     "metadata": {},
     "output_type": "display_data"
    },
    {
     "name": "stdout",
     "output_type": "stream",
     "text": [
      "Epoch 1/2\n",
      "625/625 - 4s - loss: 0.1082 - accuracy: 0.1653 - val_loss: 0.0852 - val_accuracy: 0.1760\n",
      "Epoch 2/2\n",
      "625/625 - 3s - loss: 0.0906 - accuracy: 0.1751 - val_loss: 0.0853 - val_accuracy: 0.1625\n"
     ]
    },
    {
     "data": {
      "text/html": [
       "<span style=\"color:#4527A0\"><h1 style=\"font-size:18px\">Trial complete</h1></span>"
      ],
      "text/plain": [
       "<IPython.core.display.HTML object>"
      ]
     },
     "metadata": {},
     "output_type": "display_data"
    },
    {
     "data": {
      "text/html": [
       "<span style=\"color:#4527A0\"><h1 style=\"font-size:18px\">Trial summary</h1></span>"
      ],
      "text/plain": [
       "<IPython.core.display.HTML object>"
      ]
     },
     "metadata": {},
     "output_type": "display_data"
    },
    {
     "data": {
      "text/html": [
       "<span style=\"color:cyan\"> |-Trial ID: 38b198fedaeda060ea6945d1a4e52d51</span>"
      ],
      "text/plain": [
       "<IPython.core.display.HTML object>"
      ]
     },
     "metadata": {},
     "output_type": "display_data"
    },
    {
     "data": {
      "text/html": [
       "<span style=\"color:cyan\"> |-Score: 0.08521349728107452</span>"
      ],
      "text/plain": [
       "<IPython.core.display.HTML object>"
      ]
     },
     "metadata": {},
     "output_type": "display_data"
    },
    {
     "data": {
      "text/html": [
       "<span style=\"color:cyan\"> |-Best step: 0</span>"
      ],
      "text/plain": [
       "<IPython.core.display.HTML object>"
      ]
     },
     "metadata": {},
     "output_type": "display_data"
    },
    {
     "data": {
      "text/html": [
       "<span style=\"color:#7E57C2\"><h2 style=\"font-size:16px\">Hyperparameters:</h2></span>"
      ],
      "text/plain": [
       "<IPython.core.display.HTML object>"
      ]
     },
     "metadata": {},
     "output_type": "display_data"
    },
    {
     "data": {
      "text/html": [
       "<span style=\"color:cyan\"> |-learning_rate: 0.0001</span>"
      ],
      "text/plain": [
       "<IPython.core.display.HTML object>"
      ]
     },
     "metadata": {},
     "output_type": "display_data"
    },
    {
     "data": {
      "text/html": [
       "<span style=\"color:blue\"> |-n_layers: 7</span>"
      ],
      "text/plain": [
       "<IPython.core.display.HTML object>"
      ]
     },
     "metadata": {},
     "output_type": "display_data"
    },
    {
     "data": {
      "text/html": [
       "<span style=\"color:cyan\"> |-n_starting_nodes: 350</span>"
      ],
      "text/plain": [
       "<IPython.core.display.HTML object>"
      ]
     },
     "metadata": {},
     "output_type": "display_data"
    },
    {
     "data": {
      "text/html": [
       "<span style=\"color:blue\"> |-tuner/bracket: 1</span>"
      ],
      "text/plain": [
       "<IPython.core.display.HTML object>"
      ]
     },
     "metadata": {},
     "output_type": "display_data"
    },
    {
     "data": {
      "text/html": [
       "<span style=\"color:cyan\"> |-tuner/epochs: 2</span>"
      ],
      "text/plain": [
       "<IPython.core.display.HTML object>"
      ]
     },
     "metadata": {},
     "output_type": "display_data"
    },
    {
     "data": {
      "text/html": [
       "<span style=\"color:blue\"> |-tuner/initial_epoch: 0</span>"
      ],
      "text/plain": [
       "<IPython.core.display.HTML object>"
      ]
     },
     "metadata": {},
     "output_type": "display_data"
    },
    {
     "data": {
      "text/html": [
       "<span style=\"color:cyan\"> |-tuner/round: 0</span>"
      ],
      "text/plain": [
       "<IPython.core.display.HTML object>"
      ]
     },
     "metadata": {},
     "output_type": "display_data"
    },
    {
     "name": "stdout",
     "output_type": "stream",
     "text": [
      "Epoch 1/2\n",
      "625/625 - 6s - loss: 0.1043 - accuracy: 0.1656 - val_loss: 0.0845 - val_accuracy: 0.1805\n",
      "Epoch 2/2\n",
      "625/625 - 5s - loss: 0.0909 - accuracy: 0.1700 - val_loss: 0.0861 - val_accuracy: 0.1860\n"
     ]
    },
    {
     "data": {
      "text/html": [
       "<span style=\"color:#4527A0\"><h1 style=\"font-size:18px\">Trial complete</h1></span>"
      ],
      "text/plain": [
       "<IPython.core.display.HTML object>"
      ]
     },
     "metadata": {},
     "output_type": "display_data"
    },
    {
     "data": {
      "text/html": [
       "<span style=\"color:#4527A0\"><h1 style=\"font-size:18px\">Trial summary</h1></span>"
      ],
      "text/plain": [
       "<IPython.core.display.HTML object>"
      ]
     },
     "metadata": {},
     "output_type": "display_data"
    },
    {
     "data": {
      "text/html": [
       "<span style=\"color:cyan\"> |-Trial ID: 869b4efbab43a1f8bc6b3aa3d002f8c2</span>"
      ],
      "text/plain": [
       "<IPython.core.display.HTML object>"
      ]
     },
     "metadata": {},
     "output_type": "display_data"
    },
    {
     "data": {
      "text/html": [
       "<span style=\"color:cyan\"> |-Score: 0.08447056263685226</span>"
      ],
      "text/plain": [
       "<IPython.core.display.HTML object>"
      ]
     },
     "metadata": {},
     "output_type": "display_data"
    },
    {
     "data": {
      "text/html": [
       "<span style=\"color:cyan\"> |-Best step: 0</span>"
      ],
      "text/plain": [
       "<IPython.core.display.HTML object>"
      ]
     },
     "metadata": {},
     "output_type": "display_data"
    },
    {
     "data": {
      "text/html": [
       "<span style=\"color:#7E57C2\"><h2 style=\"font-size:16px\">Hyperparameters:</h2></span>"
      ],
      "text/plain": [
       "<IPython.core.display.HTML object>"
      ]
     },
     "metadata": {},
     "output_type": "display_data"
    },
    {
     "data": {
      "text/html": [
       "<span style=\"color:cyan\"> |-learning_rate: 0.0001</span>"
      ],
      "text/plain": [
       "<IPython.core.display.HTML object>"
      ]
     },
     "metadata": {},
     "output_type": "display_data"
    },
    {
     "data": {
      "text/html": [
       "<span style=\"color:blue\"> |-n_layers: 7</span>"
      ],
      "text/plain": [
       "<IPython.core.display.HTML object>"
      ]
     },
     "metadata": {},
     "output_type": "display_data"
    },
    {
     "data": {
      "text/html": [
       "<span style=\"color:cyan\"> |-n_starting_nodes: 370</span>"
      ],
      "text/plain": [
       "<IPython.core.display.HTML object>"
      ]
     },
     "metadata": {},
     "output_type": "display_data"
    },
    {
     "data": {
      "text/html": [
       "<span style=\"color:blue\"> |-tuner/bracket: 1</span>"
      ],
      "text/plain": [
       "<IPython.core.display.HTML object>"
      ]
     },
     "metadata": {},
     "output_type": "display_data"
    },
    {
     "data": {
      "text/html": [
       "<span style=\"color:cyan\"> |-tuner/epochs: 2</span>"
      ],
      "text/plain": [
       "<IPython.core.display.HTML object>"
      ]
     },
     "metadata": {},
     "output_type": "display_data"
    },
    {
     "data": {
      "text/html": [
       "<span style=\"color:blue\"> |-tuner/initial_epoch: 0</span>"
      ],
      "text/plain": [
       "<IPython.core.display.HTML object>"
      ]
     },
     "metadata": {},
     "output_type": "display_data"
    },
    {
     "data": {
      "text/html": [
       "<span style=\"color:cyan\"> |-tuner/round: 0</span>"
      ],
      "text/plain": [
       "<IPython.core.display.HTML object>"
      ]
     },
     "metadata": {},
     "output_type": "display_data"
    },
    {
     "name": "stdout",
     "output_type": "stream",
     "text": [
      "Epoch 1/2\n",
      "625/625 - 1s - loss: 0.2107 - accuracy: 0.1641 - val_loss: 0.0986 - val_accuracy: 0.1645\n",
      "Epoch 2/2\n",
      "625/625 - 1s - loss: 0.1096 - accuracy: 0.1654 - val_loss: 0.0866 - val_accuracy: 0.1615\n"
     ]
    },
    {
     "data": {
      "text/html": [
       "<span style=\"color:#4527A0\"><h1 style=\"font-size:18px\">Trial complete</h1></span>"
      ],
      "text/plain": [
       "<IPython.core.display.HTML object>"
      ]
     },
     "metadata": {},
     "output_type": "display_data"
    },
    {
     "data": {
      "text/html": [
       "<span style=\"color:#4527A0\"><h1 style=\"font-size:18px\">Trial summary</h1></span>"
      ],
      "text/plain": [
       "<IPython.core.display.HTML object>"
      ]
     },
     "metadata": {},
     "output_type": "display_data"
    },
    {
     "data": {
      "text/html": [
       "<span style=\"color:cyan\"> |-Trial ID: ceab3e7561216cd915b9a6e3117531d7</span>"
      ],
      "text/plain": [
       "<IPython.core.display.HTML object>"
      ]
     },
     "metadata": {},
     "output_type": "display_data"
    },
    {
     "data": {
      "text/html": [
       "<span style=\"color:cyan\"> |-Score: 0.08657066524028778</span>"
      ],
      "text/plain": [
       "<IPython.core.display.HTML object>"
      ]
     },
     "metadata": {},
     "output_type": "display_data"
    },
    {
     "data": {
      "text/html": [
       "<span style=\"color:cyan\"> |-Best step: 0</span>"
      ],
      "text/plain": [
       "<IPython.core.display.HTML object>"
      ]
     },
     "metadata": {},
     "output_type": "display_data"
    },
    {
     "data": {
      "text/html": [
       "<span style=\"color:#7E57C2\"><h2 style=\"font-size:16px\">Hyperparameters:</h2></span>"
      ],
      "text/plain": [
       "<IPython.core.display.HTML object>"
      ]
     },
     "metadata": {},
     "output_type": "display_data"
    },
    {
     "data": {
      "text/html": [
       "<span style=\"color:cyan\"> |-learning_rate: 0.0001</span>"
      ],
      "text/plain": [
       "<IPython.core.display.HTML object>"
      ]
     },
     "metadata": {},
     "output_type": "display_data"
    },
    {
     "data": {
      "text/html": [
       "<span style=\"color:blue\"> |-n_layers: 3</span>"
      ],
      "text/plain": [
       "<IPython.core.display.HTML object>"
      ]
     },
     "metadata": {},
     "output_type": "display_data"
    },
    {
     "data": {
      "text/html": [
       "<span style=\"color:cyan\"> |-n_starting_nodes: 50</span>"
      ],
      "text/plain": [
       "<IPython.core.display.HTML object>"
      ]
     },
     "metadata": {},
     "output_type": "display_data"
    },
    {
     "data": {
      "text/html": [
       "<span style=\"color:blue\"> |-tuner/bracket: 1</span>"
      ],
      "text/plain": [
       "<IPython.core.display.HTML object>"
      ]
     },
     "metadata": {},
     "output_type": "display_data"
    },
    {
     "data": {
      "text/html": [
       "<span style=\"color:cyan\"> |-tuner/epochs: 2</span>"
      ],
      "text/plain": [
       "<IPython.core.display.HTML object>"
      ]
     },
     "metadata": {},
     "output_type": "display_data"
    },
    {
     "data": {
      "text/html": [
       "<span style=\"color:blue\"> |-tuner/initial_epoch: 0</span>"
      ],
      "text/plain": [
       "<IPython.core.display.HTML object>"
      ]
     },
     "metadata": {},
     "output_type": "display_data"
    },
    {
     "data": {
      "text/html": [
       "<span style=\"color:cyan\"> |-tuner/round: 0</span>"
      ],
      "text/plain": [
       "<IPython.core.display.HTML object>"
      ]
     },
     "metadata": {},
     "output_type": "display_data"
    },
    {
     "name": "stdout",
     "output_type": "stream",
     "text": [
      "Epoch 3/5\n",
      "625/625 - 1s - loss: 0.1078 - accuracy: 0.1675 - val_loss: 0.0845 - val_accuracy: 0.1790\n",
      "Epoch 4/5\n",
      "625/625 - 1s - loss: 0.0869 - accuracy: 0.1764 - val_loss: 0.0829 - val_accuracy: 0.1920\n",
      "Epoch 5/5\n",
      "625/625 - 1s - loss: 0.0847 - accuracy: 0.1768 - val_loss: 0.0826 - val_accuracy: 0.1905\n"
     ]
    },
    {
     "data": {
      "text/html": [
       "<span style=\"color:#4527A0\"><h1 style=\"font-size:18px\">Trial complete</h1></span>"
      ],
      "text/plain": [
       "<IPython.core.display.HTML object>"
      ]
     },
     "metadata": {},
     "output_type": "display_data"
    },
    {
     "data": {
      "text/html": [
       "<span style=\"color:#4527A0\"><h1 style=\"font-size:18px\">Trial summary</h1></span>"
      ],
      "text/plain": [
       "<IPython.core.display.HTML object>"
      ]
     },
     "metadata": {},
     "output_type": "display_data"
    },
    {
     "data": {
      "text/html": [
       "<span style=\"color:cyan\"> |-Trial ID: ccfcc63d8de503b5dccc2e12c4688a1d</span>"
      ],
      "text/plain": [
       "<IPython.core.display.HTML object>"
      ]
     },
     "metadata": {},
     "output_type": "display_data"
    },
    {
     "data": {
      "text/html": [
       "<span style=\"color:cyan\"> |-Score: 0.08259888738393784</span>"
      ],
      "text/plain": [
       "<IPython.core.display.HTML object>"
      ]
     },
     "metadata": {},
     "output_type": "display_data"
    },
    {
     "data": {
      "text/html": [
       "<span style=\"color:cyan\"> |-Best step: 0</span>"
      ],
      "text/plain": [
       "<IPython.core.display.HTML object>"
      ]
     },
     "metadata": {},
     "output_type": "display_data"
    },
    {
     "data": {
      "text/html": [
       "<span style=\"color:#7E57C2\"><h2 style=\"font-size:16px\">Hyperparameters:</h2></span>"
      ],
      "text/plain": [
       "<IPython.core.display.HTML object>"
      ]
     },
     "metadata": {},
     "output_type": "display_data"
    },
    {
     "data": {
      "text/html": [
       "<span style=\"color:cyan\"> |-learning_rate: 0.001</span>"
      ],
      "text/plain": [
       "<IPython.core.display.HTML object>"
      ]
     },
     "metadata": {},
     "output_type": "display_data"
    },
    {
     "data": {
      "text/html": [
       "<span style=\"color:blue\"> |-n_layers: 3</span>"
      ],
      "text/plain": [
       "<IPython.core.display.HTML object>"
      ]
     },
     "metadata": {},
     "output_type": "display_data"
    },
    {
     "data": {
      "text/html": [
       "<span style=\"color:cyan\"> |-n_starting_nodes: 50</span>"
      ],
      "text/plain": [
       "<IPython.core.display.HTML object>"
      ]
     },
     "metadata": {},
     "output_type": "display_data"
    },
    {
     "data": {
      "text/html": [
       "<span style=\"color:blue\"> |-tuner/bracket: 1</span>"
      ],
      "text/plain": [
       "<IPython.core.display.HTML object>"
      ]
     },
     "metadata": {},
     "output_type": "display_data"
    },
    {
     "data": {
      "text/html": [
       "<span style=\"color:cyan\"> |-tuner/epochs: 5</span>"
      ],
      "text/plain": [
       "<IPython.core.display.HTML object>"
      ]
     },
     "metadata": {},
     "output_type": "display_data"
    },
    {
     "data": {
      "text/html": [
       "<span style=\"color:blue\"> |-tuner/initial_epoch: 2</span>"
      ],
      "text/plain": [
       "<IPython.core.display.HTML object>"
      ]
     },
     "metadata": {},
     "output_type": "display_data"
    },
    {
     "data": {
      "text/html": [
       "<span style=\"color:cyan\"> |-tuner/round: 1</span>"
      ],
      "text/plain": [
       "<IPython.core.display.HTML object>"
      ]
     },
     "metadata": {},
     "output_type": "display_data"
    },
    {
     "data": {
      "text/html": [
       "<span style=\"color:blue\"> |-tuner/trial_id: bf46a3cf0b77ea9f00f4bdaa73cafc2e</span>"
      ],
      "text/plain": [
       "<IPython.core.display.HTML object>"
      ]
     },
     "metadata": {},
     "output_type": "display_data"
    },
    {
     "name": "stdout",
     "output_type": "stream",
     "text": [
      "Epoch 3/5\n",
      "625/625 - 2s - loss: 0.1112 - accuracy: 0.1673 - val_loss: 0.0836 - val_accuracy: 0.1715\n",
      "Epoch 4/5\n",
      "625/625 - 1s - loss: 0.0866 - accuracy: 0.1674 - val_loss: 0.0831 - val_accuracy: 0.1735\n",
      "Epoch 5/5\n",
      "625/625 - 1s - loss: 0.0847 - accuracy: 0.1694 - val_loss: 0.0832 - val_accuracy: 0.1635\n"
     ]
    },
    {
     "data": {
      "text/html": [
       "<span style=\"color:#4527A0\"><h1 style=\"font-size:18px\">Trial complete</h1></span>"
      ],
      "text/plain": [
       "<IPython.core.display.HTML object>"
      ]
     },
     "metadata": {},
     "output_type": "display_data"
    },
    {
     "data": {
      "text/html": [
       "<span style=\"color:#4527A0\"><h1 style=\"font-size:18px\">Trial summary</h1></span>"
      ],
      "text/plain": [
       "<IPython.core.display.HTML object>"
      ]
     },
     "metadata": {},
     "output_type": "display_data"
    },
    {
     "data": {
      "text/html": [
       "<span style=\"color:cyan\"> |-Trial ID: 70d7c25335b3fa8635824910233a95ee</span>"
      ],
      "text/plain": [
       "<IPython.core.display.HTML object>"
      ]
     },
     "metadata": {},
     "output_type": "display_data"
    },
    {
     "data": {
      "text/html": [
       "<span style=\"color:cyan\"> |-Score: 0.08308503031730652</span>"
      ],
      "text/plain": [
       "<IPython.core.display.HTML object>"
      ]
     },
     "metadata": {},
     "output_type": "display_data"
    },
    {
     "data": {
      "text/html": [
       "<span style=\"color:cyan\"> |-Best step: 0</span>"
      ],
      "text/plain": [
       "<IPython.core.display.HTML object>"
      ]
     },
     "metadata": {},
     "output_type": "display_data"
    },
    {
     "data": {
      "text/html": [
       "<span style=\"color:#7E57C2\"><h2 style=\"font-size:16px\">Hyperparameters:</h2></span>"
      ],
      "text/plain": [
       "<IPython.core.display.HTML object>"
      ]
     },
     "metadata": {},
     "output_type": "display_data"
    },
    {
     "data": {
      "text/html": [
       "<span style=\"color:cyan\"> |-learning_rate: 0.001</span>"
      ],
      "text/plain": [
       "<IPython.core.display.HTML object>"
      ]
     },
     "metadata": {},
     "output_type": "display_data"
    },
    {
     "data": {
      "text/html": [
       "<span style=\"color:blue\"> |-n_layers: 5</span>"
      ],
      "text/plain": [
       "<IPython.core.display.HTML object>"
      ]
     },
     "metadata": {},
     "output_type": "display_data"
    },
    {
     "data": {
      "text/html": [
       "<span style=\"color:cyan\"> |-n_starting_nodes: 30</span>"
      ],
      "text/plain": [
       "<IPython.core.display.HTML object>"
      ]
     },
     "metadata": {},
     "output_type": "display_data"
    },
    {
     "data": {
      "text/html": [
       "<span style=\"color:blue\"> |-tuner/bracket: 1</span>"
      ],
      "text/plain": [
       "<IPython.core.display.HTML object>"
      ]
     },
     "metadata": {},
     "output_type": "display_data"
    },
    {
     "data": {
      "text/html": [
       "<span style=\"color:cyan\"> |-tuner/epochs: 5</span>"
      ],
      "text/plain": [
       "<IPython.core.display.HTML object>"
      ]
     },
     "metadata": {},
     "output_type": "display_data"
    },
    {
     "data": {
      "text/html": [
       "<span style=\"color:blue\"> |-tuner/initial_epoch: 2</span>"
      ],
      "text/plain": [
       "<IPython.core.display.HTML object>"
      ]
     },
     "metadata": {},
     "output_type": "display_data"
    },
    {
     "data": {
      "text/html": [
       "<span style=\"color:cyan\"> |-tuner/round: 1</span>"
      ],
      "text/plain": [
       "<IPython.core.display.HTML object>"
      ]
     },
     "metadata": {},
     "output_type": "display_data"
    },
    {
     "data": {
      "text/html": [
       "<span style=\"color:blue\"> |-tuner/trial_id: c476974718b9c410799cade8ae8eff43</span>"
      ],
      "text/plain": [
       "<IPython.core.display.HTML object>"
      ]
     },
     "metadata": {},
     "output_type": "display_data"
    },
    {
     "name": "stdout",
     "output_type": "stream",
     "text": [
      "Epoch 1/5\n",
      "625/625 - 1s - loss: 0.1131 - accuracy: 0.1716 - val_loss: 0.0848 - val_accuracy: 0.1855\n",
      "Epoch 2/5\n",
      "625/625 - 1s - loss: 0.0859 - accuracy: 0.1769 - val_loss: 0.0828 - val_accuracy: 0.1950\n",
      "Epoch 3/5\n",
      "625/625 - 1s - loss: 0.0849 - accuracy: 0.1785 - val_loss: 0.0826 - val_accuracy: 0.1785\n",
      "Epoch 4/5\n",
      "625/625 - 1s - loss: 0.0846 - accuracy: 0.1775 - val_loss: 0.0825 - val_accuracy: 0.2005\n",
      "Epoch 5/5\n",
      "625/625 - 1s - loss: 0.0842 - accuracy: 0.1803 - val_loss: 0.0825 - val_accuracy: 0.1915\n"
     ]
    },
    {
     "data": {
      "text/html": [
       "<span style=\"color:#4527A0\"><h1 style=\"font-size:18px\">Trial complete</h1></span>"
      ],
      "text/plain": [
       "<IPython.core.display.HTML object>"
      ]
     },
     "metadata": {},
     "output_type": "display_data"
    },
    {
     "data": {
      "text/html": [
       "<span style=\"color:#4527A0\"><h1 style=\"font-size:18px\">Trial summary</h1></span>"
      ],
      "text/plain": [
       "<IPython.core.display.HTML object>"
      ]
     },
     "metadata": {},
     "output_type": "display_data"
    },
    {
     "data": {
      "text/html": [
       "<span style=\"color:cyan\"> |-Trial ID: e5579940e3ba54eb5225b3691b8b06fd</span>"
      ],
      "text/plain": [
       "<IPython.core.display.HTML object>"
      ]
     },
     "metadata": {},
     "output_type": "display_data"
    },
    {
     "data": {
      "text/html": [
       "<span style=\"color:cyan\"> |-Score: 0.08246886730194092</span>"
      ],
      "text/plain": [
       "<IPython.core.display.HTML object>"
      ]
     },
     "metadata": {},
     "output_type": "display_data"
    },
    {
     "data": {
      "text/html": [
       "<span style=\"color:cyan\"> |-Best step: 0</span>"
      ],
      "text/plain": [
       "<IPython.core.display.HTML object>"
      ]
     },
     "metadata": {},
     "output_type": "display_data"
    },
    {
     "data": {
      "text/html": [
       "<span style=\"color:#7E57C2\"><h2 style=\"font-size:16px\">Hyperparameters:</h2></span>"
      ],
      "text/plain": [
       "<IPython.core.display.HTML object>"
      ]
     },
     "metadata": {},
     "output_type": "display_data"
    },
    {
     "data": {
      "text/html": [
       "<span style=\"color:cyan\"> |-learning_rate: 0.0001</span>"
      ],
      "text/plain": [
       "<IPython.core.display.HTML object>"
      ]
     },
     "metadata": {},
     "output_type": "display_data"
    },
    {
     "data": {
      "text/html": [
       "<span style=\"color:blue\"> |-n_layers: 1</span>"
      ],
      "text/plain": [
       "<IPython.core.display.HTML object>"
      ]
     },
     "metadata": {},
     "output_type": "display_data"
    },
    {
     "data": {
      "text/html": [
       "<span style=\"color:cyan\"> |-n_starting_nodes: 250</span>"
      ],
      "text/plain": [
       "<IPython.core.display.HTML object>"
      ]
     },
     "metadata": {},
     "output_type": "display_data"
    },
    {
     "data": {
      "text/html": [
       "<span style=\"color:blue\"> |-tuner/bracket: 0</span>"
      ],
      "text/plain": [
       "<IPython.core.display.HTML object>"
      ]
     },
     "metadata": {},
     "output_type": "display_data"
    },
    {
     "data": {
      "text/html": [
       "<span style=\"color:cyan\"> |-tuner/epochs: 5</span>"
      ],
      "text/plain": [
       "<IPython.core.display.HTML object>"
      ]
     },
     "metadata": {},
     "output_type": "display_data"
    },
    {
     "data": {
      "text/html": [
       "<span style=\"color:blue\"> |-tuner/initial_epoch: 0</span>"
      ],
      "text/plain": [
       "<IPython.core.display.HTML object>"
      ]
     },
     "metadata": {},
     "output_type": "display_data"
    },
    {
     "data": {
      "text/html": [
       "<span style=\"color:cyan\"> |-tuner/round: 0</span>"
      ],
      "text/plain": [
       "<IPython.core.display.HTML object>"
      ]
     },
     "metadata": {},
     "output_type": "display_data"
    },
    {
     "name": "stdout",
     "output_type": "stream",
     "text": [
      "Epoch 1/5\n",
      "625/625 - 3s - loss: 0.1014 - accuracy: 0.1658 - val_loss: 0.0831 - val_accuracy: 0.1700\n",
      "Epoch 2/5\n",
      "625/625 - 2s - loss: 0.0859 - accuracy: 0.1664 - val_loss: 0.0832 - val_accuracy: 0.1640\n",
      "Epoch 3/5\n",
      "625/625 - 2s - loss: 0.0847 - accuracy: 0.1726 - val_loss: 0.0830 - val_accuracy: 0.1630\n",
      "Epoch 4/5\n",
      "625/625 - 2s - loss: 0.0841 - accuracy: 0.1748 - val_loss: 0.0831 - val_accuracy: 0.1675\n",
      "Epoch 5/5\n",
      "625/625 - 2s - loss: 0.0835 - accuracy: 0.1906 - val_loss: 0.0819 - val_accuracy: 0.2005\n"
     ]
    },
    {
     "data": {
      "text/html": [
       "<span style=\"color:#4527A0\"><h1 style=\"font-size:18px\">Trial complete</h1></span>"
      ],
      "text/plain": [
       "<IPython.core.display.HTML object>"
      ]
     },
     "metadata": {},
     "output_type": "display_data"
    },
    {
     "data": {
      "text/html": [
       "<span style=\"color:#4527A0\"><h1 style=\"font-size:18px\">Trial summary</h1></span>"
      ],
      "text/plain": [
       "<IPython.core.display.HTML object>"
      ]
     },
     "metadata": {},
     "output_type": "display_data"
    },
    {
     "data": {
      "text/html": [
       "<span style=\"color:cyan\"> |-Trial ID: bc8b16bc84f84daf54bc3ee2c5bdf35b</span>"
      ],
      "text/plain": [
       "<IPython.core.display.HTML object>"
      ]
     },
     "metadata": {},
     "output_type": "display_data"
    },
    {
     "data": {
      "text/html": [
       "<span style=\"color:cyan\"> |-Score: 0.08185098320245743</span>"
      ],
      "text/plain": [
       "<IPython.core.display.HTML object>"
      ]
     },
     "metadata": {},
     "output_type": "display_data"
    },
    {
     "data": {
      "text/html": [
       "<span style=\"color:cyan\"> |-Best step: 0</span>"
      ],
      "text/plain": [
       "<IPython.core.display.HTML object>"
      ]
     },
     "metadata": {},
     "output_type": "display_data"
    },
    {
     "data": {
      "text/html": [
       "<span style=\"color:#7E57C2\"><h2 style=\"font-size:16px\">Hyperparameters:</h2></span>"
      ],
      "text/plain": [
       "<IPython.core.display.HTML object>"
      ]
     },
     "metadata": {},
     "output_type": "display_data"
    },
    {
     "data": {
      "text/html": [
       "<span style=\"color:cyan\"> |-learning_rate: 0.001</span>"
      ],
      "text/plain": [
       "<IPython.core.display.HTML object>"
      ]
     },
     "metadata": {},
     "output_type": "display_data"
    },
    {
     "data": {
      "text/html": [
       "<span style=\"color:blue\"> |-n_layers: 7</span>"
      ],
      "text/plain": [
       "<IPython.core.display.HTML object>"
      ]
     },
     "metadata": {},
     "output_type": "display_data"
    },
    {
     "data": {
      "text/html": [
       "<span style=\"color:cyan\"> |-n_starting_nodes: 90</span>"
      ],
      "text/plain": [
       "<IPython.core.display.HTML object>"
      ]
     },
     "metadata": {},
     "output_type": "display_data"
    },
    {
     "data": {
      "text/html": [
       "<span style=\"color:blue\"> |-tuner/bracket: 0</span>"
      ],
      "text/plain": [
       "<IPython.core.display.HTML object>"
      ]
     },
     "metadata": {},
     "output_type": "display_data"
    },
    {
     "data": {
      "text/html": [
       "<span style=\"color:cyan\"> |-tuner/epochs: 5</span>"
      ],
      "text/plain": [
       "<IPython.core.display.HTML object>"
      ]
     },
     "metadata": {},
     "output_type": "display_data"
    },
    {
     "data": {
      "text/html": [
       "<span style=\"color:blue\"> |-tuner/initial_epoch: 0</span>"
      ],
      "text/plain": [
       "<IPython.core.display.HTML object>"
      ]
     },
     "metadata": {},
     "output_type": "display_data"
    },
    {
     "data": {
      "text/html": [
       "<span style=\"color:cyan\"> |-tuner/round: 0</span>"
      ],
      "text/plain": [
       "<IPython.core.display.HTML object>"
      ]
     },
     "metadata": {},
     "output_type": "display_data"
    },
    {
     "name": "stdout",
     "output_type": "stream",
     "text": [
      "Epoch 1/5\n",
      "625/625 - 1s - loss: 0.0930 - accuracy: 0.1725 - val_loss: 0.0831 - val_accuracy: 0.1875\n",
      "Epoch 2/5\n",
      "625/625 - 1s - loss: 0.0850 - accuracy: 0.1787 - val_loss: 0.0821 - val_accuracy: 0.1980\n",
      "Epoch 3/5\n",
      "625/625 - 1s - loss: 0.0835 - accuracy: 0.1972 - val_loss: 0.0809 - val_accuracy: 0.2310\n",
      "Epoch 4/5\n",
      "625/625 - 1s - loss: 0.0818 - accuracy: 0.2273 - val_loss: 0.0795 - val_accuracy: 0.2580\n",
      "Epoch 5/5\n",
      "625/625 - 1s - loss: 0.0806 - accuracy: 0.2405 - val_loss: 0.0793 - val_accuracy: 0.2430\n"
     ]
    },
    {
     "data": {
      "text/html": [
       "<span style=\"color:#4527A0\"><h1 style=\"font-size:18px\">Trial complete</h1></span>"
      ],
      "text/plain": [
       "<IPython.core.display.HTML object>"
      ]
     },
     "metadata": {},
     "output_type": "display_data"
    },
    {
     "data": {
      "text/html": [
       "<span style=\"color:#4527A0\"><h1 style=\"font-size:18px\">Trial summary</h1></span>"
      ],
      "text/plain": [
       "<IPython.core.display.HTML object>"
      ]
     },
     "metadata": {},
     "output_type": "display_data"
    },
    {
     "data": {
      "text/html": [
       "<span style=\"color:cyan\"> |-Trial ID: 254e22c9e33dd0851e3acd9674060d31</span>"
      ],
      "text/plain": [
       "<IPython.core.display.HTML object>"
      ]
     },
     "metadata": {},
     "output_type": "display_data"
    },
    {
     "data": {
      "text/html": [
       "<span style=\"color:cyan\"> |-Score: 0.07928387820720673</span>"
      ],
      "text/plain": [
       "<IPython.core.display.HTML object>"
      ]
     },
     "metadata": {},
     "output_type": "display_data"
    },
    {
     "data": {
      "text/html": [
       "<span style=\"color:cyan\"> |-Best step: 0</span>"
      ],
      "text/plain": [
       "<IPython.core.display.HTML object>"
      ]
     },
     "metadata": {},
     "output_type": "display_data"
    },
    {
     "data": {
      "text/html": [
       "<span style=\"color:#7E57C2\"><h2 style=\"font-size:16px\">Hyperparameters:</h2></span>"
      ],
      "text/plain": [
       "<IPython.core.display.HTML object>"
      ]
     },
     "metadata": {},
     "output_type": "display_data"
    },
    {
     "data": {
      "text/html": [
       "<span style=\"color:cyan\"> |-learning_rate: 0.001</span>"
      ],
      "text/plain": [
       "<IPython.core.display.HTML object>"
      ]
     },
     "metadata": {},
     "output_type": "display_data"
    },
    {
     "data": {
      "text/html": [
       "<span style=\"color:blue\"> |-n_layers: 3</span>"
      ],
      "text/plain": [
       "<IPython.core.display.HTML object>"
      ]
     },
     "metadata": {},
     "output_type": "display_data"
    },
    {
     "data": {
      "text/html": [
       "<span style=\"color:cyan\"> |-n_starting_nodes: 110</span>"
      ],
      "text/plain": [
       "<IPython.core.display.HTML object>"
      ]
     },
     "metadata": {},
     "output_type": "display_data"
    },
    {
     "data": {
      "text/html": [
       "<span style=\"color:blue\"> |-tuner/bracket: 0</span>"
      ],
      "text/plain": [
       "<IPython.core.display.HTML object>"
      ]
     },
     "metadata": {},
     "output_type": "display_data"
    },
    {
     "data": {
      "text/html": [
       "<span style=\"color:cyan\"> |-tuner/epochs: 5</span>"
      ],
      "text/plain": [
       "<IPython.core.display.HTML object>"
      ]
     },
     "metadata": {},
     "output_type": "display_data"
    },
    {
     "data": {
      "text/html": [
       "<span style=\"color:blue\"> |-tuner/initial_epoch: 0</span>"
      ],
      "text/plain": [
       "<IPython.core.display.HTML object>"
      ]
     },
     "metadata": {},
     "output_type": "display_data"
    },
    {
     "data": {
      "text/html": [
       "<span style=\"color:cyan\"> |-tuner/round: 0</span>"
      ],
      "text/plain": [
       "<IPython.core.display.HTML object>"
      ]
     },
     "metadata": {},
     "output_type": "display_data"
    },
    {
     "name": "stdout",
     "output_type": "stream",
     "text": [
      "INFO:tensorflow:Oracle triggered exit\n",
      "Tiden for denne kommandoen var: 1.37 min\n",
      "Model: \"sequential\"\n",
      "_________________________________________________________________\n",
      "Layer (type)                 Output Shape              Param #   \n",
      "=================================================================\n",
      "Layer_1 (Dense)              (None, 110)               770       \n",
      "_________________________________________________________________\n",
      "Dropout_1 (Dropout)          (None, 110)               0         \n",
      "_________________________________________________________________\n",
      "Layer_2 (Dense)              (None, 75)                8325      \n",
      "_________________________________________________________________\n",
      "Dropout_2 (Dropout)          (None, 75)                0         \n",
      "_________________________________________________________________\n",
      "Layer_3 (Dense)              (None, 40)                3040      \n",
      "_________________________________________________________________\n",
      "Dropout_3 (Dropout)          (None, 40)                0         \n",
      "_________________________________________________________________\n",
      "Output_Layer (Dense)         (None, 6)                 246       \n",
      "=================================================================\n",
      "Total params: 12,381\n",
      "Trainable params: 12,381\n",
      "Non-trainable params: 0\n",
      "_________________________________________________________________\n",
      "<kerastuner.engine.hyperparameters.HyperParameters object at 0x000002707BCA0310>\n",
      "WARNING:tensorflow:From C:\\Users\\emelf\\Anaconda3\\lib\\site-packages\\tensorflow\\python\\training\\tracking\\tracking.py:111: Model.state_updates (from tensorflow.python.keras.engine.training) is deprecated and will be removed in a future version.\n",
      "Instructions for updating:\n",
      "This property should not be used in TensorFlow 2.0, as updates are applied automatically.\n",
      "WARNING:tensorflow:From C:\\Users\\emelf\\Anaconda3\\lib\\site-packages\\tensorflow\\python\\training\\tracking\\tracking.py:111: Layer.updates (from tensorflow.python.keras.engine.base_layer) is deprecated and will be removed in a future version.\n",
      "Instructions for updating:\n",
      "This property should not be used in TensorFlow 2.0, as updates are applied automatically.\n",
      "INFO:tensorflow:Assets written to: C:\\Users\\emelf\\Documents\\USN-Scripts---Emil\\Python\\Parameter Estimation\\Trained Models\\model_1\\assets\n"
     ]
    }
   ],
   "source": [
    "best_model = handler.find_opt_hyperparams(X_train[0:20000], X_test[0:2000], y_train[0:20000], y_test[0:2000])"
   ]
  },
  {
   "cell_type": "code",
   "execution_count": 9,
   "metadata": {
    "scrolled": true
   },
   "outputs": [
    {
     "name": "stdout",
     "output_type": "stream",
     "text": [
      "Epoch 1/20\n"
     ]
    },
    {
     "name": "stdout",
     "output_type": "stream",
     "text": [
      "185/312 [================>.............] - ETA: 0s - loss: 0.3346 - accuracy: 0.0000e+ - ETA: 4:20 - loss: 0.3320 - accuracy: 0.0000e+ - ETA: 6:34 - loss: 0.3229 - accuracy: 0.0312   - ETA: 7:23 - loss: 0.3136 - accuracy: 0.03 - ETA: 7:37 - loss: 0.3018 - accuracy: 0.04 - ETA: 7:54 - loss: 0.2889 - accuracy: 0.05 - ETA: 8:15 - loss: 0.2758 - accuracy: 0.08 - ETA: 8:08 - loss: 0.2636 - accuracy: 0.08 - ETA: 8:16 - loss: 0.2510 - accuracy: 0.08 - ETA: 8:14 - loss: 0.2388 - accuracy: 0.09 - ETA: 8:12 - loss: 0.2269 - accuracy: 0.09 - ETA: 8:15 - loss: 0.2162 - accuracy: 0.09 - ETA: 8:16 - loss: 0.2073 - accuracy: 0.09 - ETA: 8:14 - loss: 0.1982 - accuracy: 0.09 - ETA: 8:16 - loss: 0.1902 - accuracy: 0.09 - ETA: 8:16 - loss: 0.1825 - accuracy: 0.09 - ETA: 8:14 - loss: 0.1753 - accuracy: 0.10 - ETA: 8:12 - loss: 0.1686 - accuracy: 0.12 - ETA: 8:12 - loss: 0.1623 - accuracy: 0.16 - ETA: 8:09 - loss: 0.1567 - accuracy: 0.19 - ETA: 8:06 - loss: 0.1519 - accuracy: 0.21 - ETA: 8:08 - loss: 0.1471 - accuracy: 0.23 - ETA: 8:06 - loss: 0.1426 - accuracy: 0.25 - ETA: 8:03 - loss: 0.1385 - accuracy: 0.27 - ETA: 8:01 - loss: 0.1340 - accuracy: 0.29 - ETA: 8:01 - loss: 0.1300 - accuracy: 0.31 - ETA: 8:00 - loss: 0.1261 - accuracy: 0.33 - ETA: 7:58 - loss: 0.1226 - accuracy: 0.35 - ETA: 7:57 - loss: 0.1193 - accuracy: 0.36 - ETA: 7:58 - loss: 0.1163 - accuracy: 0.37 - ETA: 8:01 - loss: 0.1133 - accuracy: 0.38 - ETA: 7:59 - loss: 0.1106 - accuracy: 0.40 - ETA: 7:57 - loss: 0.1080 - accuracy: 0.41 - ETA: 7:55 - loss: 0.1056 - accuracy: 0.41 - ETA: 7:53 - loss: 0.1032 - accuracy: 0.42 - ETA: 7:54 - loss: 0.1010 - accuracy: 0.42 - ETA: 7:52 - loss: 0.0991 - accuracy: 0.43 - ETA: 7:52 - loss: 0.0972 - accuracy: 0.44 - ETA: 7:50 - loss: 0.0951 - accuracy: 0.45 - ETA: 7:47 - loss: 0.0933 - accuracy: 0.46 - ETA: 7:45 - loss: 0.0916 - accuracy: 0.47 - ETA: 7:45 - loss: 0.0899 - accuracy: 0.47 - ETA: 7:43 - loss: 0.0883 - accuracy: 0.48 - ETA: 7:41 - loss: 0.0867 - accuracy: 0.49 - ETA: 7:40 - loss: 0.0852 - accuracy: 0.49 - ETA: 7:38 - loss: 0.0838 - accuracy: 0.49 - ETA: 7:49 - loss: 0.0826 - accuracy: 0.50 - ETA: 7:52 - loss: 0.0814 - accuracy: 0.50 - ETA: 7:50 - loss: 0.0802 - accuracy: 0.51 - ETA: 7:48 - loss: 0.0790 - accuracy: 0.51 - ETA: 7:45 - loss: 0.0779 - accuracy: 0.52 - ETA: 7:44 - loss: 0.0767 - accuracy: 0.52 - ETA: 7:46 - loss: 0.0758 - accuracy: 0.52 - ETA: 7:46 - loss: 0.0748 - accuracy: 0.53 - ETA: 7:45 - loss: 0.0739 - accuracy: 0.53 - ETA: 7:42 - loss: 0.0729 - accuracy: 0.53 - ETA: 7:39 - loss: 0.0720 - accuracy: 0.54 - ETA: 7:37 - loss: 0.0710 - accuracy: 0.54 - ETA: 7:37 - loss: 0.0701 - accuracy: 0.54 - ETA: 7:35 - loss: 0.0693 - accuracy: 0.54 - ETA: 7:32 - loss: 0.0684 - accuracy: 0.54 - ETA: 7:30 - loss: 0.0676 - accuracy: 0.55 - ETA: 7:27 - loss: 0.0670 - accuracy: 0.55 - ETA: 7:25 - loss: 0.0662 - accuracy: 0.55 - ETA: 7:22 - loss: 0.0655 - accuracy: 0.56 - ETA: 7:20 - loss: 0.0649 - accuracy: 0.56 - ETA: 7:17 - loss: 0.0642 - accuracy: 0.57 - ETA: 7:16 - loss: 0.0635 - accuracy: 0.57 - ETA: 7:14 - loss: 0.0628 - accuracy: 0.57 - ETA: 7:13 - loss: 0.0622 - accuracy: 0.57 - ETA: 7:11 - loss: 0.0616 - accuracy: 0.57 - ETA: 7:09 - loss: 0.0609 - accuracy: 0.58 - ETA: 7:07 - loss: 0.0603 - accuracy: 0.58 - ETA: 7:07 - loss: 0.0597 - accuracy: 0.58 - ETA: 7:06 - loss: 0.0592 - accuracy: 0.59 - ETA: 7:04 - loss: 0.0586 - accuracy: 0.59 - ETA: 7:02 - loss: 0.0582 - accuracy: 0.59 - ETA: 7:00 - loss: 0.0576 - accuracy: 0.59 - ETA: 6:58 - loss: 0.0572 - accuracy: 0.59 - ETA: 6:56 - loss: 0.0566 - accuracy: 0.59 - ETA: 6:54 - loss: 0.0561 - accuracy: 0.59 - ETA: 6:52 - loss: 0.0557 - accuracy: 0.60 - ETA: 6:50 - loss: 0.0552 - accuracy: 0.60 - ETA: 6:48 - loss: 0.0547 - accuracy: 0.60 - ETA: 6:46 - loss: 0.0542 - accuracy: 0.60 - ETA: 6:44 - loss: 0.0537 - accuracy: 0.60 - ETA: 6:42 - loss: 0.0532 - accuracy: 0.60 - ETA: 6:41 - loss: 0.0528 - accuracy: 0.61 - ETA: 6:39 - loss: 0.0523 - accuracy: 0.61 - ETA: 6:38 - loss: 0.0518 - accuracy: 0.61 - ETA: 6:36 - loss: 0.0514 - accuracy: 0.61 - ETA: 6:34 - loss: 0.0509 - accuracy: 0.61 - ETA: 6:32 - loss: 0.0505 - accuracy: 0.62 - ETA: 6:30 - loss: 0.0501 - accuracy: 0.62 - ETA: 6:28 - loss: 0.0497 - accuracy: 0.62 - ETA: 6:26 - loss: 0.0493 - accuracy: 0.62 - ETA: 6:24 - loss: 0.0488 - accuracy: 0.62 - ETA: 6:22 - loss: 0.0484 - accuracy: 0.63 - ETA: 6:21 - loss: 0.0480 - accuracy: 0.63 - ETA: 6:19 - loss: 0.0477 - accuracy: 0.63 - ETA: 6:17 - loss: 0.0473 - accuracy: 0.63 - ETA: 6:15 - loss: 0.0469 - accuracy: 0.63 - ETA: 6:13 - loss: 0.0465 - accuracy: 0.63 - ETA: 6:11 - loss: 0.0461 - accuracy: 0.63 - ETA: 6:09 - loss: 0.0458 - accuracy: 0.64 - ETA: 6:07 - loss: 0.0454 - accuracy: 0.64 - ETA: 6:05 - loss: 0.0451 - accuracy: 0.64 - ETA: 6:03 - loss: 0.0447 - accuracy: 0.64 - ETA: 6:02 - loss: 0.0444 - accuracy: 0.65 - ETA: 6:00 - loss: 0.0441 - accuracy: 0.65 - ETA: 5:58 - loss: 0.0438 - accuracy: 0.65 - ETA: 5:56 - loss: 0.0434 - accuracy: 0.65 - ETA: 5:54 - loss: 0.0431 - accuracy: 0.65 - ETA: 5:52 - loss: 0.0428 - accuracy: 0.65 - ETA: 5:50 - loss: 0.0425 - accuracy: 0.66 - ETA: 5:48 - loss: 0.0422 - accuracy: 0.66 - ETA: 5:46 - loss: 0.0419 - accuracy: 0.66 - ETA: 5:44 - loss: 0.0416 - accuracy: 0.66 - ETA: 5:42 - loss: 0.0413 - accuracy: 0.66 - ETA: 5:41 - loss: 0.0410 - accuracy: 0.67 - ETA: 5:39 - loss: 0.0408 - accuracy: 0.67 - ETA: 5:37 - loss: 0.0405 - accuracy: 0.67 - ETA: 5:35 - loss: 0.0402 - accuracy: 0.67 - ETA: 5:33 - loss: 0.0399 - accuracy: 0.67 - ETA: 5:31 - loss: 0.0397 - accuracy: 0.68 - ETA: 5:29 - loss: 0.0394 - accuracy: 0.68 - ETA: 5:28 - loss: 0.0392 - accuracy: 0.68 - ETA: 5:26 - loss: 0.0389 - accuracy: 0.68 - ETA: 5:24 - loss: 0.0386 - accuracy: 0.68 - ETA: 5:23 - loss: 0.0384 - accuracy: 0.68 - ETA: 5:21 - loss: 0.0381 - accuracy: 0.69 - ETA: 5:19 - loss: 0.0379 - accuracy: 0.69 - ETA: 5:18 - loss: 0.0377 - accuracy: 0.69 - ETA: 5:17 - loss: 0.0374 - accuracy: 0.69 - ETA: 5:15 - loss: 0.0372 - accuracy: 0.69 - ETA: 5:14 - loss: 0.0370 - accuracy: 0.69 - ETA: 5:13 - loss: 0.0367 - accuracy: 0.70 - ETA: 5:12 - loss: 0.0365 - accuracy: 0.70 - ETA: 5:11 - loss: 0.0363 - accuracy: 0.70 - ETA: 5:09 - loss: 0.0360 - accuracy: 0.70 - ETA: 5:07 - loss: 0.0358 - accuracy: 0.70 - ETA: 5:06 - loss: 0.0356 - accuracy: 0.70 - ETA: 5:04 - loss: 0.0354 - accuracy: 0.70 - ETA: 5:03 - loss: 0.0352 - accuracy: 0.70 - ETA: 5:01 - loss: 0.0349 - accuracy: 0.71 - ETA: 4:59 - loss: 0.0348 - accuracy: 0.71 - ETA: 4:57 - loss: 0.0345 - accuracy: 0.71 - ETA: 4:56 - loss: 0.0344 - accuracy: 0.71 - ETA: 4:54 - loss: 0.0342 - accuracy: 0.71 - ETA: 4:52 - loss: 0.0340 - accuracy: 0.71 - ETA: 4:50 - loss: 0.0338 - accuracy: 0.71 - ETA: 4:48 - loss: 0.0336 - accuracy: 0.72 - ETA: 4:46 - loss: 0.0334 - accuracy: 0.72 - ETA: 4:44 - loss: 0.0332 - accuracy: 0.72 - ETA: 4:42 - loss: 0.0330 - accuracy: 0.72 - ETA: 4:41 - loss: 0.0329 - accuracy: 0.72 - ETA: 4:39 - loss: 0.0327 - accuracy: 0.72 - ETA: 4:38 - loss: 0.0325 - accuracy: 0.72 - ETA: 4:39 - loss: 0.0323 - accuracy: 0.72 - ETA: 4:40 - loss: 0.0322 - accuracy: 0.72 - ETA: 4:40 - loss: 0.0320 - accuracy: 0.72 - ETA: 4:39 - loss: 0.0318 - accuracy: 0.72 - ETA: 4:37 - loss: 0.0317 - accuracy: 0.73 - ETA: 4:36 - loss: 0.0315 - accuracy: 0.73 - ETA: 4:35 - loss: 0.0313 - accuracy: 0.73 - ETA: 4:36 - loss: 0.0312 - accuracy: 0.73 - ETA: 4:35 - loss: 0.0310 - accuracy: 0.73 - ETA: 4:33 - loss: 0.0308 - accuracy: 0.73 - ETA: 4:32 - loss: 0.0307 - accuracy: 0.73 - ETA: 4:30 - loss: 0.0305 - accuracy: 0.73 - ETA: 4:28 - loss: 0.0304 - accuracy: 0.73 - ETA: 4:26 - loss: 0.0302 - accuracy: 0.73 - ETA: 4:24 - loss: 0.0301 - accuracy: 0.73 - ETA: 4:22 - loss: 0.0299 - accuracy: 0.74 - ETA: 4:20 - loss: 0.0298 - accuracy: 0.74 - ETA: 4:18 - loss: 0.0296 - accuracy: 0.74 - ETA: 4:16 - loss: 0.0295 - accuracy: 0.74 - ETA: 4:14 - loss: 0.0294 - accuracy: 0.74 - ETA: 4:12 - loss: 0.0292 - accuracy: 0.74 - ETA: 4:10 - loss: 0.0291 - accuracy: 0.74 - ETA: 4:08 - loss: 0.0289 - accuracy: 0.74 - ETA: 4:06 - loss: 0.0288 - accuracy: 0.74 - ETA: 4:04 - loss: 0.0287 - accuracy: 0.74 - ETA: 4:02 - loss: 0.0286 - accuracy: 0.74 - ETA: 4:00 - loss: 0.0284 - accuracy: 0.7483\b\b\b\b\b\b\b\b\b\b\b\b\b\b\b\b\b\b\b\b\b\b\b\b\b\b\b\b\b\b\b\b\b\b\b\b\b\b\b\b\b\b\b\b\b\b\b\b\b\b\b\b\b\b\b\b\b\b\b\b\b\b\b\b\b\b\b\b\b\b\b\b\b\b\b\b\b\b\b\b\b\b\b\b\b\b"
     ]
    },
    {
     "name": "stdout",
     "output_type": "stream",
     "text": [
      "312/312 [==============================] - ETA: 3:58 - loss: 0.0283 - accuracy: 0.74 - ETA: 3:56 - loss: 0.0282 - accuracy: 0.75 - ETA: 3:54 - loss: 0.0281 - accuracy: 0.75 - ETA: 3:51 - loss: 0.0279 - accuracy: 0.75 - ETA: 3:49 - loss: 0.0278 - accuracy: 0.75 - ETA: 3:47 - loss: 0.0277 - accuracy: 0.75 - ETA: 3:46 - loss: 0.0276 - accuracy: 0.75 - ETA: 3:44 - loss: 0.0275 - accuracy: 0.75 - ETA: 3:42 - loss: 0.0274 - accuracy: 0.75 - ETA: 3:40 - loss: 0.0273 - accuracy: 0.75 - ETA: 3:38 - loss: 0.0271 - accuracy: 0.75 - ETA: 3:37 - loss: 0.0270 - accuracy: 0.75 - ETA: 3:35 - loss: 0.0269 - accuracy: 0.75 - ETA: 3:33 - loss: 0.0268 - accuracy: 0.75 - ETA: 3:31 - loss: 0.0267 - accuracy: 0.76 - ETA: 3:29 - loss: 0.0266 - accuracy: 0.76 - ETA: 3:28 - loss: 0.0265 - accuracy: 0.76 - ETA: 3:26 - loss: 0.0263 - accuracy: 0.76 - ETA: 3:25 - loss: 0.0262 - accuracy: 0.76 - ETA: 3:23 - loss: 0.0261 - accuracy: 0.76 - ETA: 3:21 - loss: 0.0260 - accuracy: 0.76 - ETA: 3:19 - loss: 0.0259 - accuracy: 0.76 - ETA: 3:18 - loss: 0.0258 - accuracy: 0.76 - ETA: 3:16 - loss: 0.0257 - accuracy: 0.76 - ETA: 3:15 - loss: 0.0256 - accuracy: 0.76 - ETA: 3:13 - loss: 0.0255 - accuracy: 0.76 - ETA: 3:11 - loss: 0.0254 - accuracy: 0.76 - ETA: 3:09 - loss: 0.0253 - accuracy: 0.77 - ETA: 3:07 - loss: 0.0252 - accuracy: 0.77 - ETA: 3:05 - loss: 0.0251 - accuracy: 0.77 - ETA: 3:04 - loss: 0.0250 - accuracy: 0.77 - ETA: 3:02 - loss: 0.0249 - accuracy: 0.77 - ETA: 3:00 - loss: 0.0248 - accuracy: 0.77 - ETA: 2:58 - loss: 0.0247 - accuracy: 0.77 - ETA: 2:55 - loss: 0.0246 - accuracy: 0.77 - ETA: 2:53 - loss: 0.0245 - accuracy: 0.77 - ETA: 2:52 - loss: 0.0244 - accuracy: 0.77 - ETA: 2:50 - loss: 0.0244 - accuracy: 0.77 - ETA: 2:48 - loss: 0.0243 - accuracy: 0.77 - ETA: 2:46 - loss: 0.0242 - accuracy: 0.77 - ETA: 2:44 - loss: 0.0241 - accuracy: 0.77 - ETA: 2:43 - loss: 0.0240 - accuracy: 0.78 - ETA: 2:41 - loss: 0.0239 - accuracy: 0.78 - ETA: 2:39 - loss: 0.0238 - accuracy: 0.78 - ETA: 2:37 - loss: 0.0237 - accuracy: 0.78 - ETA: 2:35 - loss: 0.0236 - accuracy: 0.78 - ETA: 2:34 - loss: 0.0236 - accuracy: 0.78 - ETA: 2:32 - loss: 0.0235 - accuracy: 0.78 - ETA: 2:30 - loss: 0.0234 - accuracy: 0.78 - ETA: 2:28 - loss: 0.0233 - accuracy: 0.78 - ETA: 2:26 - loss: 0.0232 - accuracy: 0.78 - ETA: 2:24 - loss: 0.0231 - accuracy: 0.78 - ETA: 2:23 - loss: 0.0231 - accuracy: 0.78 - ETA: 2:21 - loss: 0.0230 - accuracy: 0.78 - ETA: 2:19 - loss: 0.0229 - accuracy: 0.78 - ETA: 2:18 - loss: 0.0228 - accuracy: 0.78 - ETA: 2:16 - loss: 0.0228 - accuracy: 0.78 - ETA: 2:15 - loss: 0.0227 - accuracy: 0.78 - ETA: 2:13 - loss: 0.0226 - accuracy: 0.79 - ETA: 2:11 - loss: 0.0225 - accuracy: 0.79 - ETA: 2:09 - loss: 0.0225 - accuracy: 0.79 - ETA: 2:07 - loss: 0.0224 - accuracy: 0.79 - ETA: 2:05 - loss: 0.0223 - accuracy: 0.79 - ETA: 2:03 - loss: 0.0222 - accuracy: 0.79 - ETA: 2:01 - loss: 0.0222 - accuracy: 0.79 - ETA: 2:00 - loss: 0.0221 - accuracy: 0.79 - ETA: 1:58 - loss: 0.0220 - accuracy: 0.79 - ETA: 1:56 - loss: 0.0219 - accuracy: 0.79 - ETA: 1:54 - loss: 0.0219 - accuracy: 0.79 - ETA: 1:53 - loss: 0.0218 - accuracy: 0.79 - ETA: 1:51 - loss: 0.0217 - accuracy: 0.79 - ETA: 1:49 - loss: 0.0217 - accuracy: 0.79 - ETA: 1:47 - loss: 0.0216 - accuracy: 0.79 - ETA: 1:45 - loss: 0.0215 - accuracy: 0.79 - ETA: 1:43 - loss: 0.0215 - accuracy: 0.79 - ETA: 1:41 - loss: 0.0214 - accuracy: 0.79 - ETA: 1:40 - loss: 0.0213 - accuracy: 0.79 - ETA: 1:38 - loss: 0.0212 - accuracy: 0.80 - ETA: 1:36 - loss: 0.0212 - accuracy: 0.80 - ETA: 1:35 - loss: 0.0211 - accuracy: 0.80 - ETA: 1:33 - loss: 0.0210 - accuracy: 0.80 - ETA: 1:31 - loss: 0.0210 - accuracy: 0.80 - ETA: 1:29 - loss: 0.0209 - accuracy: 0.80 - ETA: 1:27 - loss: 0.0209 - accuracy: 0.80 - ETA: 1:25 - loss: 0.0208 - accuracy: 0.80 - ETA: 1:23 - loss: 0.0207 - accuracy: 0.80 - ETA: 1:22 - loss: 0.0207 - accuracy: 0.80 - ETA: 1:20 - loss: 0.0206 - accuracy: 0.80 - ETA: 1:18 - loss: 0.0205 - accuracy: 0.80 - ETA: 1:16 - loss: 0.0205 - accuracy: 0.80 - ETA: 1:14 - loss: 0.0204 - accuracy: 0.80 - ETA: 1:12 - loss: 0.0203 - accuracy: 0.80 - ETA: 1:10 - loss: 0.0203 - accuracy: 0.80 - ETA: 1:08 - loss: 0.0202 - accuracy: 0.80 - ETA: 1:06 - loss: 0.0202 - accuracy: 0.80 - ETA: 1:04 - loss: 0.0201 - accuracy: 0.80 - ETA: 1:02 - loss: 0.0201 - accuracy: 0.80 - ETA: 1:00 - loss: 0.0200 - accuracy: 0.80 - ETA: 58s - loss: 0.0199 - accuracy: 0.8101 - ETA: 56s - loss: 0.0199 - accuracy: 0.810 - ETA: 54s - loss: 0.0198 - accuracy: 0.810 - ETA: 52s - loss: 0.0198 - accuracy: 0.810 - ETA: 49s - loss: 0.0197 - accuracy: 0.811 - ETA: 47s - loss: 0.0197 - accuracy: 0.811 - ETA: 45s - loss: 0.0196 - accuracy: 0.812 - ETA: 43s - loss: 0.0195 - accuracy: 0.812 - ETA: 41s - loss: 0.0195 - accuracy: 0.812 - ETA: 39s - loss: 0.0194 - accuracy: 0.812 - ETA: 37s - loss: 0.0194 - accuracy: 0.812 - ETA: 35s - loss: 0.0193 - accuracy: 0.813 - ETA: 33s - loss: 0.0193 - accuracy: 0.813 - ETA: 31s - loss: 0.0192 - accuracy: 0.814 - ETA: 29s - loss: 0.0192 - accuracy: 0.814 - ETA: 27s - loss: 0.0191 - accuracy: 0.815 - ETA: 25s - loss: 0.0190 - accuracy: 0.815 - ETA: 23s - loss: 0.0190 - accuracy: 0.815 - ETA: 21s - loss: 0.0189 - accuracy: 0.816 - ETA: 19s - loss: 0.0189 - accuracy: 0.816 - ETA: 17s - loss: 0.0188 - accuracy: 0.817 - ETA: 14s - loss: 0.0188 - accuracy: 0.817 - ETA: 12s - loss: 0.0187 - accuracy: 0.817 - ETA: 10s - loss: 0.0187 - accuracy: 0.818 - ETA: 8s - loss: 0.0186 - accuracy: 0.818 - ETA: 6s - loss: 0.0186 - accuracy: 0.81 - ETA: 4s - loss: 0.0185 - accuracy: 0.81 - ETA: 2s - loss: 0.0185 - accuracy: 0.82 - ETA: 0s - loss: 0.0184 - accuracy: 0.82 - 672s 2s/step - loss: 0.0184 - accuracy: 0.8202 - val_loss: 0.3750 - val_accuracy: 0.1683\n",
      "Epoch 2/20\n",
      "  5/312 [..............................] - ETA: 0s - loss: 0.0031 - accuracy: 0.81 - ETA: 7:25 - loss: 0.0027 - accuracy: 0.87 - ETA: 10:39 - loss: 0.0029 - accuracy: 0.875 - ETA: 12:46 - loss: 0.0034 - accuracy: 0.898 - ETA: 13:00 - loss: 0.0033 - accuracy: 0.9125"
     ]
    },
    {
     "ename": "KeyboardInterrupt",
     "evalue": "",
     "output_type": "error",
     "traceback": [
      "\u001b[1;31m---------------------------------------------------------------------------\u001b[0m",
      "\u001b[1;31mKeyboardInterrupt\u001b[0m                         Traceback (most recent call last)",
      "\u001b[1;32m<ipython-input-9-8a2da7600c6e>\u001b[0m in \u001b[0;36m<module>\u001b[1;34m\u001b[0m\n\u001b[0;32m      3\u001b[0m \u001b[0mgen_train\u001b[0m \u001b[1;33m=\u001b[0m \u001b[0mdata_model\u001b[0m\u001b[1;33m.\u001b[0m\u001b[0mgenerator\u001b[0m\u001b[1;33m(\u001b[0m\u001b[1;33m)\u001b[0m\u001b[1;33m\u001b[0m\u001b[1;33m\u001b[0m\u001b[0m\n\u001b[0;32m      4\u001b[0m \u001b[1;31m#gen_val = data_model.generator(X_NN, y_NN)\u001b[0m\u001b[1;33m\u001b[0m\u001b[1;33m\u001b[0m\u001b[1;33m\u001b[0m\u001b[0m\n\u001b[1;32m----> 5\u001b[1;33m history = best_model.fit_generator(gen_train, steps_per_epoch=10000//32, epochs=20, validation_data=(X_test[0:10000], y_test[0:10000]),\n\u001b[0m\u001b[0;32m      6\u001b[0m                                    callbacks=[tf.keras.callbacks.EarlyStopping(patience=2)])\n",
      "\u001b[1;32m~\\Anaconda3\\lib\\site-packages\\tensorflow\\python\\util\\deprecation.py\u001b[0m in \u001b[0;36mnew_func\u001b[1;34m(*args, **kwargs)\u001b[0m\n\u001b[0;32m    322\u001b[0m               \u001b[1;34m'in a future version'\u001b[0m \u001b[1;32mif\u001b[0m \u001b[0mdate\u001b[0m \u001b[1;32mis\u001b[0m \u001b[1;32mNone\u001b[0m \u001b[1;32melse\u001b[0m \u001b[1;33m(\u001b[0m\u001b[1;34m'after %s'\u001b[0m \u001b[1;33m%\u001b[0m \u001b[0mdate\u001b[0m\u001b[1;33m)\u001b[0m\u001b[1;33m,\u001b[0m\u001b[1;33m\u001b[0m\u001b[1;33m\u001b[0m\u001b[0m\n\u001b[0;32m    323\u001b[0m               instructions)\n\u001b[1;32m--> 324\u001b[1;33m       \u001b[1;32mreturn\u001b[0m \u001b[0mfunc\u001b[0m\u001b[1;33m(\u001b[0m\u001b[1;33m*\u001b[0m\u001b[0margs\u001b[0m\u001b[1;33m,\u001b[0m \u001b[1;33m**\u001b[0m\u001b[0mkwargs\u001b[0m\u001b[1;33m)\u001b[0m\u001b[1;33m\u001b[0m\u001b[1;33m\u001b[0m\u001b[0m\n\u001b[0m\u001b[0;32m    325\u001b[0m     return tf_decorator.make_decorator(\n\u001b[0;32m    326\u001b[0m         \u001b[0mfunc\u001b[0m\u001b[1;33m,\u001b[0m \u001b[0mnew_func\u001b[0m\u001b[1;33m,\u001b[0m \u001b[1;34m'deprecated'\u001b[0m\u001b[1;33m,\u001b[0m\u001b[1;33m\u001b[0m\u001b[1;33m\u001b[0m\u001b[0m\n",
      "\u001b[1;32m~\\Anaconda3\\lib\\site-packages\\tensorflow\\python\\keras\\engine\\training.py\u001b[0m in \u001b[0;36mfit_generator\u001b[1;34m(self, generator, steps_per_epoch, epochs, verbose, callbacks, validation_data, validation_steps, validation_freq, class_weight, max_queue_size, workers, use_multiprocessing, shuffle, initial_epoch)\u001b[0m\n\u001b[0;32m   1813\u001b[0m     \"\"\"\n\u001b[0;32m   1814\u001b[0m     \u001b[0m_keras_api_gauge\u001b[0m\u001b[1;33m.\u001b[0m\u001b[0mget_cell\u001b[0m\u001b[1;33m(\u001b[0m\u001b[1;34m'fit_generator'\u001b[0m\u001b[1;33m)\u001b[0m\u001b[1;33m.\u001b[0m\u001b[0mset\u001b[0m\u001b[1;33m(\u001b[0m\u001b[1;32mTrue\u001b[0m\u001b[1;33m)\u001b[0m\u001b[1;33m\u001b[0m\u001b[1;33m\u001b[0m\u001b[0m\n\u001b[1;32m-> 1815\u001b[1;33m     return self.fit(\n\u001b[0m\u001b[0;32m   1816\u001b[0m         \u001b[0mgenerator\u001b[0m\u001b[1;33m,\u001b[0m\u001b[1;33m\u001b[0m\u001b[1;33m\u001b[0m\u001b[0m\n\u001b[0;32m   1817\u001b[0m         \u001b[0msteps_per_epoch\u001b[0m\u001b[1;33m=\u001b[0m\u001b[0msteps_per_epoch\u001b[0m\u001b[1;33m,\u001b[0m\u001b[1;33m\u001b[0m\u001b[1;33m\u001b[0m\u001b[0m\n",
      "\u001b[1;32m~\\Anaconda3\\lib\\site-packages\\tensorflow\\python\\keras\\engine\\training.py\u001b[0m in \u001b[0;36m_method_wrapper\u001b[1;34m(self, *args, **kwargs)\u001b[0m\n\u001b[0;32m    106\u001b[0m   \u001b[1;32mdef\u001b[0m \u001b[0m_method_wrapper\u001b[0m\u001b[1;33m(\u001b[0m\u001b[0mself\u001b[0m\u001b[1;33m,\u001b[0m \u001b[1;33m*\u001b[0m\u001b[0margs\u001b[0m\u001b[1;33m,\u001b[0m \u001b[1;33m**\u001b[0m\u001b[0mkwargs\u001b[0m\u001b[1;33m)\u001b[0m\u001b[1;33m:\u001b[0m\u001b[1;33m\u001b[0m\u001b[1;33m\u001b[0m\u001b[0m\n\u001b[0;32m    107\u001b[0m     \u001b[1;32mif\u001b[0m \u001b[1;32mnot\u001b[0m \u001b[0mself\u001b[0m\u001b[1;33m.\u001b[0m\u001b[0m_in_multi_worker_mode\u001b[0m\u001b[1;33m(\u001b[0m\u001b[1;33m)\u001b[0m\u001b[1;33m:\u001b[0m  \u001b[1;31m# pylint: disable=protected-access\u001b[0m\u001b[1;33m\u001b[0m\u001b[1;33m\u001b[0m\u001b[0m\n\u001b[1;32m--> 108\u001b[1;33m       \u001b[1;32mreturn\u001b[0m \u001b[0mmethod\u001b[0m\u001b[1;33m(\u001b[0m\u001b[0mself\u001b[0m\u001b[1;33m,\u001b[0m \u001b[1;33m*\u001b[0m\u001b[0margs\u001b[0m\u001b[1;33m,\u001b[0m \u001b[1;33m**\u001b[0m\u001b[0mkwargs\u001b[0m\u001b[1;33m)\u001b[0m\u001b[1;33m\u001b[0m\u001b[1;33m\u001b[0m\u001b[0m\n\u001b[0m\u001b[0;32m    109\u001b[0m \u001b[1;33m\u001b[0m\u001b[0m\n\u001b[0;32m    110\u001b[0m     \u001b[1;31m# Running inside `run_distribute_coordinator` already.\u001b[0m\u001b[1;33m\u001b[0m\u001b[1;33m\u001b[0m\u001b[1;33m\u001b[0m\u001b[0m\n",
      "\u001b[1;32m~\\Anaconda3\\lib\\site-packages\\tensorflow\\python\\keras\\engine\\training.py\u001b[0m in \u001b[0;36mfit\u001b[1;34m(self, x, y, batch_size, epochs, verbose, callbacks, validation_split, validation_data, shuffle, class_weight, sample_weight, initial_epoch, steps_per_epoch, validation_steps, validation_batch_size, validation_freq, max_queue_size, workers, use_multiprocessing)\u001b[0m\n\u001b[0;32m   1096\u001b[0m                 batch_size=batch_size):\n\u001b[0;32m   1097\u001b[0m               \u001b[0mcallbacks\u001b[0m\u001b[1;33m.\u001b[0m\u001b[0mon_train_batch_begin\u001b[0m\u001b[1;33m(\u001b[0m\u001b[0mstep\u001b[0m\u001b[1;33m)\u001b[0m\u001b[1;33m\u001b[0m\u001b[1;33m\u001b[0m\u001b[0m\n\u001b[1;32m-> 1098\u001b[1;33m               \u001b[0mtmp_logs\u001b[0m \u001b[1;33m=\u001b[0m \u001b[0mtrain_function\u001b[0m\u001b[1;33m(\u001b[0m\u001b[0miterator\u001b[0m\u001b[1;33m)\u001b[0m\u001b[1;33m\u001b[0m\u001b[1;33m\u001b[0m\u001b[0m\n\u001b[0m\u001b[0;32m   1099\u001b[0m               \u001b[1;32mif\u001b[0m \u001b[0mdata_handler\u001b[0m\u001b[1;33m.\u001b[0m\u001b[0mshould_sync\u001b[0m\u001b[1;33m:\u001b[0m\u001b[1;33m\u001b[0m\u001b[1;33m\u001b[0m\u001b[0m\n\u001b[0;32m   1100\u001b[0m                 \u001b[0mcontext\u001b[0m\u001b[1;33m.\u001b[0m\u001b[0masync_wait\u001b[0m\u001b[1;33m(\u001b[0m\u001b[1;33m)\u001b[0m\u001b[1;33m\u001b[0m\u001b[1;33m\u001b[0m\u001b[0m\n",
      "\u001b[1;32m~\\Anaconda3\\lib\\site-packages\\tensorflow\\python\\eager\\def_function.py\u001b[0m in \u001b[0;36m__call__\u001b[1;34m(self, *args, **kwds)\u001b[0m\n\u001b[0;32m    778\u001b[0m       \u001b[1;32melse\u001b[0m\u001b[1;33m:\u001b[0m\u001b[1;33m\u001b[0m\u001b[1;33m\u001b[0m\u001b[0m\n\u001b[0;32m    779\u001b[0m         \u001b[0mcompiler\u001b[0m \u001b[1;33m=\u001b[0m \u001b[1;34m\"nonXla\"\u001b[0m\u001b[1;33m\u001b[0m\u001b[1;33m\u001b[0m\u001b[0m\n\u001b[1;32m--> 780\u001b[1;33m         \u001b[0mresult\u001b[0m \u001b[1;33m=\u001b[0m \u001b[0mself\u001b[0m\u001b[1;33m.\u001b[0m\u001b[0m_call\u001b[0m\u001b[1;33m(\u001b[0m\u001b[1;33m*\u001b[0m\u001b[0margs\u001b[0m\u001b[1;33m,\u001b[0m \u001b[1;33m**\u001b[0m\u001b[0mkwds\u001b[0m\u001b[1;33m)\u001b[0m\u001b[1;33m\u001b[0m\u001b[1;33m\u001b[0m\u001b[0m\n\u001b[0m\u001b[0;32m    781\u001b[0m \u001b[1;33m\u001b[0m\u001b[0m\n\u001b[0;32m    782\u001b[0m       \u001b[0mnew_tracing_count\u001b[0m \u001b[1;33m=\u001b[0m \u001b[0mself\u001b[0m\u001b[1;33m.\u001b[0m\u001b[0m_get_tracing_count\u001b[0m\u001b[1;33m(\u001b[0m\u001b[1;33m)\u001b[0m\u001b[1;33m\u001b[0m\u001b[1;33m\u001b[0m\u001b[0m\n",
      "\u001b[1;32m~\\Anaconda3\\lib\\site-packages\\tensorflow\\python\\eager\\def_function.py\u001b[0m in \u001b[0;36m_call\u001b[1;34m(self, *args, **kwds)\u001b[0m\n\u001b[0;32m    805\u001b[0m       \u001b[1;31m# In this case we have created variables on the first call, so we run the\u001b[0m\u001b[1;33m\u001b[0m\u001b[1;33m\u001b[0m\u001b[1;33m\u001b[0m\u001b[0m\n\u001b[0;32m    806\u001b[0m       \u001b[1;31m# defunned version which is guaranteed to never create variables.\u001b[0m\u001b[1;33m\u001b[0m\u001b[1;33m\u001b[0m\u001b[1;33m\u001b[0m\u001b[0m\n\u001b[1;32m--> 807\u001b[1;33m       \u001b[1;32mreturn\u001b[0m \u001b[0mself\u001b[0m\u001b[1;33m.\u001b[0m\u001b[0m_stateless_fn\u001b[0m\u001b[1;33m(\u001b[0m\u001b[1;33m*\u001b[0m\u001b[0margs\u001b[0m\u001b[1;33m,\u001b[0m \u001b[1;33m**\u001b[0m\u001b[0mkwds\u001b[0m\u001b[1;33m)\u001b[0m  \u001b[1;31m# pylint: disable=not-callable\u001b[0m\u001b[1;33m\u001b[0m\u001b[1;33m\u001b[0m\u001b[0m\n\u001b[0m\u001b[0;32m    808\u001b[0m     \u001b[1;32melif\u001b[0m \u001b[0mself\u001b[0m\u001b[1;33m.\u001b[0m\u001b[0m_stateful_fn\u001b[0m \u001b[1;32mis\u001b[0m \u001b[1;32mnot\u001b[0m \u001b[1;32mNone\u001b[0m\u001b[1;33m:\u001b[0m\u001b[1;33m\u001b[0m\u001b[1;33m\u001b[0m\u001b[0m\n\u001b[0;32m    809\u001b[0m       \u001b[1;31m# Release the lock early so that multiple threads can perform the call\u001b[0m\u001b[1;33m\u001b[0m\u001b[1;33m\u001b[0m\u001b[1;33m\u001b[0m\u001b[0m\n",
      "\u001b[1;32m~\\Anaconda3\\lib\\site-packages\\tensorflow\\python\\eager\\function.py\u001b[0m in \u001b[0;36m__call__\u001b[1;34m(self, *args, **kwargs)\u001b[0m\n\u001b[0;32m   2827\u001b[0m     \u001b[1;32mwith\u001b[0m \u001b[0mself\u001b[0m\u001b[1;33m.\u001b[0m\u001b[0m_lock\u001b[0m\u001b[1;33m:\u001b[0m\u001b[1;33m\u001b[0m\u001b[1;33m\u001b[0m\u001b[0m\n\u001b[0;32m   2828\u001b[0m       \u001b[0mgraph_function\u001b[0m\u001b[1;33m,\u001b[0m \u001b[0margs\u001b[0m\u001b[1;33m,\u001b[0m \u001b[0mkwargs\u001b[0m \u001b[1;33m=\u001b[0m \u001b[0mself\u001b[0m\u001b[1;33m.\u001b[0m\u001b[0m_maybe_define_function\u001b[0m\u001b[1;33m(\u001b[0m\u001b[0margs\u001b[0m\u001b[1;33m,\u001b[0m \u001b[0mkwargs\u001b[0m\u001b[1;33m)\u001b[0m\u001b[1;33m\u001b[0m\u001b[1;33m\u001b[0m\u001b[0m\n\u001b[1;32m-> 2829\u001b[1;33m     \u001b[1;32mreturn\u001b[0m \u001b[0mgraph_function\u001b[0m\u001b[1;33m.\u001b[0m\u001b[0m_filtered_call\u001b[0m\u001b[1;33m(\u001b[0m\u001b[0margs\u001b[0m\u001b[1;33m,\u001b[0m \u001b[0mkwargs\u001b[0m\u001b[1;33m)\u001b[0m  \u001b[1;31m# pylint: disable=protected-access\u001b[0m\u001b[1;33m\u001b[0m\u001b[1;33m\u001b[0m\u001b[0m\n\u001b[0m\u001b[0;32m   2830\u001b[0m \u001b[1;33m\u001b[0m\u001b[0m\n\u001b[0;32m   2831\u001b[0m   \u001b[1;33m@\u001b[0m\u001b[0mproperty\u001b[0m\u001b[1;33m\u001b[0m\u001b[1;33m\u001b[0m\u001b[0m\n",
      "\u001b[1;32m~\\Anaconda3\\lib\\site-packages\\tensorflow\\python\\eager\\function.py\u001b[0m in \u001b[0;36m_filtered_call\u001b[1;34m(self, args, kwargs, cancellation_manager)\u001b[0m\n\u001b[0;32m   1841\u001b[0m       \u001b[0;31m`\u001b[0m\u001b[0margs\u001b[0m\u001b[0;31m`\u001b[0m \u001b[1;32mand\u001b[0m\u001b[0;31m \u001b[0m\u001b[0;31m`\u001b[0m\u001b[0mkwargs\u001b[0m\u001b[0;31m`\u001b[0m\u001b[1;33m.\u001b[0m\u001b[1;33m\u001b[0m\u001b[1;33m\u001b[0m\u001b[0m\n\u001b[0;32m   1842\u001b[0m     \"\"\"\n\u001b[1;32m-> 1843\u001b[1;33m     return self._call_flat(\n\u001b[0m\u001b[0;32m   1844\u001b[0m         [t for t in nest.flatten((args, kwargs), expand_composites=True)\n\u001b[0;32m   1845\u001b[0m          if isinstance(t, (ops.Tensor,\n",
      "\u001b[1;32m~\\Anaconda3\\lib\\site-packages\\tensorflow\\python\\eager\\function.py\u001b[0m in \u001b[0;36m_call_flat\u001b[1;34m(self, args, captured_inputs, cancellation_manager)\u001b[0m\n\u001b[0;32m   1921\u001b[0m         and executing_eagerly):\n\u001b[0;32m   1922\u001b[0m       \u001b[1;31m# No tape is watching; skip to running the function.\u001b[0m\u001b[1;33m\u001b[0m\u001b[1;33m\u001b[0m\u001b[1;33m\u001b[0m\u001b[0m\n\u001b[1;32m-> 1923\u001b[1;33m       return self._build_call_outputs(self._inference_function.call(\n\u001b[0m\u001b[0;32m   1924\u001b[0m           ctx, args, cancellation_manager=cancellation_manager))\n\u001b[0;32m   1925\u001b[0m     forward_backward = self._select_forward_and_backward_functions(\n",
      "\u001b[1;32m~\\Anaconda3\\lib\\site-packages\\tensorflow\\python\\eager\\function.py\u001b[0m in \u001b[0;36mcall\u001b[1;34m(self, ctx, args, cancellation_manager)\u001b[0m\n\u001b[0;32m    543\u001b[0m       \u001b[1;32mwith\u001b[0m \u001b[0m_InterpolateFunctionError\u001b[0m\u001b[1;33m(\u001b[0m\u001b[0mself\u001b[0m\u001b[1;33m)\u001b[0m\u001b[1;33m:\u001b[0m\u001b[1;33m\u001b[0m\u001b[1;33m\u001b[0m\u001b[0m\n\u001b[0;32m    544\u001b[0m         \u001b[1;32mif\u001b[0m \u001b[0mcancellation_manager\u001b[0m \u001b[1;32mis\u001b[0m \u001b[1;32mNone\u001b[0m\u001b[1;33m:\u001b[0m\u001b[1;33m\u001b[0m\u001b[1;33m\u001b[0m\u001b[0m\n\u001b[1;32m--> 545\u001b[1;33m           outputs = execute.execute(\n\u001b[0m\u001b[0;32m    546\u001b[0m               \u001b[0mstr\u001b[0m\u001b[1;33m(\u001b[0m\u001b[0mself\u001b[0m\u001b[1;33m.\u001b[0m\u001b[0msignature\u001b[0m\u001b[1;33m.\u001b[0m\u001b[0mname\u001b[0m\u001b[1;33m)\u001b[0m\u001b[1;33m,\u001b[0m\u001b[1;33m\u001b[0m\u001b[1;33m\u001b[0m\u001b[0m\n\u001b[0;32m    547\u001b[0m               \u001b[0mnum_outputs\u001b[0m\u001b[1;33m=\u001b[0m\u001b[0mself\u001b[0m\u001b[1;33m.\u001b[0m\u001b[0m_num_outputs\u001b[0m\u001b[1;33m,\u001b[0m\u001b[1;33m\u001b[0m\u001b[1;33m\u001b[0m\u001b[0m\n",
      "\u001b[1;32m~\\Anaconda3\\lib\\site-packages\\tensorflow\\python\\eager\\execute.py\u001b[0m in \u001b[0;36mquick_execute\u001b[1;34m(op_name, num_outputs, inputs, attrs, ctx, name)\u001b[0m\n\u001b[0;32m     57\u001b[0m   \u001b[1;32mtry\u001b[0m\u001b[1;33m:\u001b[0m\u001b[1;33m\u001b[0m\u001b[1;33m\u001b[0m\u001b[0m\n\u001b[0;32m     58\u001b[0m     \u001b[0mctx\u001b[0m\u001b[1;33m.\u001b[0m\u001b[0mensure_initialized\u001b[0m\u001b[1;33m(\u001b[0m\u001b[1;33m)\u001b[0m\u001b[1;33m\u001b[0m\u001b[1;33m\u001b[0m\u001b[0m\n\u001b[1;32m---> 59\u001b[1;33m     tensors = pywrap_tfe.TFE_Py_Execute(ctx._handle, device_name, op_name,\n\u001b[0m\u001b[0;32m     60\u001b[0m                                         inputs, attrs, num_outputs)\n\u001b[0;32m     61\u001b[0m   \u001b[1;32mexcept\u001b[0m \u001b[0mcore\u001b[0m\u001b[1;33m.\u001b[0m\u001b[0m_NotOkStatusException\u001b[0m \u001b[1;32mas\u001b[0m \u001b[0me\u001b[0m\u001b[1;33m:\u001b[0m\u001b[1;33m\u001b[0m\u001b[1;33m\u001b[0m\u001b[0m\n",
      "\u001b[1;31mKeyboardInterrupt\u001b[0m: "
     ]
    }
   ],
   "source": [
    "#X_NN, y_NN = data_model.load_data(\"Training_data/X_data.npy\", \"Training_data/y_data.npy\") #Used to tune the scalers for the generators\n",
    "#X_train, X_test, y_train, y_test, X_NN_scaled, y_NN_scaled = data_model.prepare_data(X_NN, y_NN) #Tune the data model\n",
    "gen_train = data_model.generator(batch_size=32)\n",
    "#gen_val = data_model.generator(X_NN, y_NN)\n",
    "history = best_model.fit_generator(gen_train, steps_per_epoch=10000//32, epochs=20, validation_data=(X_test[0:10000], y_test[0:10000]),\n",
    "                                   callbacks=[tf.keras.callbacks.EarlyStopping(patience=2)])\n"
   ]
  },
  {
   "cell_type": "code",
   "execution_count": 10,
   "metadata": {},
   "outputs": [
    {
     "ename": "NameError",
     "evalue": "name 'history' is not defined",
     "output_type": "error",
     "traceback": [
      "\u001b[1;31m---------------------------------------------------------------------------\u001b[0m",
      "\u001b[1;31mNameError\u001b[0m                                 Traceback (most recent call last)",
      "\u001b[1;32m<ipython-input-10-880da4e2c47d>\u001b[0m in \u001b[0;36m<module>\u001b[1;34m\u001b[0m\n\u001b[1;32m----> 1\u001b[1;33m \u001b[0mhist\u001b[0m \u001b[1;33m=\u001b[0m \u001b[0mhistory\u001b[0m\u001b[1;33m.\u001b[0m\u001b[0mhistory\u001b[0m\u001b[1;33m\u001b[0m\u001b[1;33m\u001b[0m\u001b[0m\n\u001b[0m\u001b[0;32m      2\u001b[0m \u001b[0mfig\u001b[0m\u001b[1;33m,\u001b[0m \u001b[0maxes\u001b[0m \u001b[1;33m=\u001b[0m \u001b[0mplt\u001b[0m\u001b[1;33m.\u001b[0m\u001b[0msubplots\u001b[0m\u001b[1;33m(\u001b[0m\u001b[0mlen\u001b[0m\u001b[1;33m(\u001b[0m\u001b[0mhist\u001b[0m\u001b[1;33m)\u001b[0m\u001b[1;33m,\u001b[0m \u001b[1;36m1\u001b[0m\u001b[1;33m)\u001b[0m\u001b[1;33m\u001b[0m\u001b[1;33m\u001b[0m\u001b[0m\n\u001b[0;32m      3\u001b[0m \u001b[1;32mfor\u001b[0m \u001b[0mel\u001b[0m\u001b[1;33m,\u001b[0m \u001b[0max\u001b[0m \u001b[1;32min\u001b[0m \u001b[0mzip\u001b[0m\u001b[1;33m(\u001b[0m\u001b[0mhist\u001b[0m\u001b[1;33m,\u001b[0m \u001b[0maxes\u001b[0m\u001b[1;33m)\u001b[0m\u001b[1;33m:\u001b[0m\u001b[1;33m\u001b[0m\u001b[1;33m\u001b[0m\u001b[0m\n\u001b[0;32m      4\u001b[0m     \u001b[0max\u001b[0m\u001b[1;33m.\u001b[0m\u001b[0mplot\u001b[0m\u001b[1;33m(\u001b[0m\u001b[0mhist\u001b[0m\u001b[1;33m[\u001b[0m\u001b[0mel\u001b[0m\u001b[1;33m]\u001b[0m\u001b[1;33m)\u001b[0m\u001b[1;33m\u001b[0m\u001b[1;33m\u001b[0m\u001b[0m\n\u001b[0;32m      5\u001b[0m     \u001b[0max\u001b[0m\u001b[1;33m.\u001b[0m\u001b[0mset_title\u001b[0m\u001b[1;33m(\u001b[0m\u001b[0mel\u001b[0m\u001b[1;33m)\u001b[0m\u001b[1;33m\u001b[0m\u001b[1;33m\u001b[0m\u001b[0m\n",
      "\u001b[1;31mNameError\u001b[0m: name 'history' is not defined"
     ]
    }
   ],
   "source": [
    "hist = history.history \n",
    "fig, axes = plt.subplots(len(hist), 1)\n",
    "for el, ax in zip(hist, axes): \n",
    "    ax.plot(hist[el])\n",
    "    ax.set_title(el)\n",
    "    \n",
    "fig.set_figheight(6)\n",
    "fig.set_figwidth(10)\n",
    "fig.tight_layout(h_pad=-0.2)\n",
    "plt.show()    "
   ]
  },
  {
   "cell_type": "code",
   "execution_count": 5,
   "metadata": {},
   "outputs": [],
   "source": [
    "# pickle.dump(model, open(\"dyn_model.pickle\", \"wb\"))\n",
    "# pickle.dump(data_model, open(\"data_model.pickle\", \"wb\"))\n",
    "#best_model.save(\"best_model\")\n",
    "best_model = keras.models.load_model(\"best_model\")"
   ]
  },
  {
   "cell_type": "code",
   "execution_count": 11,
   "metadata": {},
   "outputs": [],
   "source": [
    "from evaluate_NN import TestNN \n",
    "test = TestNN(best_model, model, data_model)"
   ]
  },
  {
   "cell_type": "code",
   "execution_count": 19,
   "metadata": {},
   "outputs": [],
   "source": [
    "y_NN, y_pred = test.find_theta_one()"
   ]
  },
  {
   "cell_type": "code",
   "execution_count": 20,
   "metadata": {},
   "outputs": [
    {
     "data": {
      "image/png": "[encoded data removed]",
      "text/plain": [
       "<Figure size 720x720 with 6 Axes>"
      ]
     },
     "metadata": {
      "needs_background": "light"
     },
     "output_type": "display_data"
    }
   ],
   "source": [
    "fig, axes = plt.subplots(len(y_NN[0]))\n",
    "names = [\"Cm\", \"Cc\", \"hA_m2c\", \"hA_m2env\", \"hA_eff\", \"mda\"]\n",
    "n_steps = np.linspace(1, len(y_pred), len(y_pred))\n",
    "y_pred_plot = data_model.y_scaler.inverse_transform(y_pred)\n",
    "for ax, name, th_pred, th_real in zip(axes, names, y_pred_plot.T, y_NN.T):\n",
    "    ax.set_title(name)\n",
    "    ax.plot(n_steps, th_pred, label=name+\" predicted\")\n",
    "    ax.plot(n_steps, th_real, label=name+\" real\")\n",
    "    ax.legend() \n",
    "    ax.grid()\n",
    "    \n",
    "fig.set_figwidth(10)\n",
    "fig.set_figheight(10)\n",
    "fig.tight_layout(h_pad=-0.2)"
   ]
  },
  {
   "cell_type": "code",
   "execution_count": 16,
   "metadata": {},
   "outputs": [
    {
     "data": {
      "text/plain": [
       "2"
      ]
     },
     "execution_count": 16,
     "metadata": {},
     "output_type": "execute_result"
    }
   ],
   "source": [
    "model.N_steps"
   ]
  },
  {
   "cell_type": "markdown",
   "metadata": {},
   "source": [
    "# Testing! \n"
   ]
  },
  {
   "cell_type": "code",
   "execution_count": 1,
   "metadata": {},
   "outputs": [],
   "source": [
    "from data_and_models import *\n",
    "import numpy as np\n",
    "import time\n",
    "from tensorflow import keras "
   ]
  },
  {
   "cell_type": "code",
   "execution_count": 2,
   "metadata": {},
   "outputs": [],
   "source": [
    "chp_air = 1000 \n",
    "Q_HE = lambda x, u, theta: theta[5]*chp_air*(1-np.exp(-theta[4]/(theta[5]*chp_air)))*(x[1]-u[1])\n",
    "dTm_dt = lambda x, u, theta: (u[0]-theta[2]*(x[0]-x[1])-theta[3]*(x[0]-u[1]))/theta[0]\n",
    "dTc_dt = lambda x, u, theta: (theta[2]*(x[0]-x[1])-Q_HE(x,u,theta))/theta[1]\n",
    "\n",
    "dxdt = lambda x,u,theta: np.array([dTm_dt(x,u,theta), dTc_dt(x,u,theta)])\n",
    "f_x = lambda x,u,theta: np.array([Q_HE(x,u,theta)])\n",
    "\n",
    "x0_range = [(20, 60), (20, 60)]\n",
    "u_range = [(0, 30), (20, 30)]\n",
    "theta_range = [(100, 800), (40, 400), (5,20), (0.1,1), (1,5), (0.3, 1.2)]\n",
    "\n",
    "model = dynamical_model(dxdt, f_x)\n",
    "model.setup(0, 60, 600, 20, x0_range, u_range, theta_range)\n",
    "data_model = generate_data(model) \n",
    "X_NN, y_NN = data_model.load_data(\"Training_data/X_data.npy\", \"Training_data/y_data.npy\") #could also generate data "
   ]
  },
  {
   "cell_type": "code",
   "execution_count": 3,
   "metadata": {},
   "outputs": [],
   "source": [
    "X_train, X_test, y_train, y_test, X_NN_scaled, y_NN_scaled = data_model.prepare_data(X_NN, y_NN)\n",
    "train_gen = data_model.generator(batch_size=32)\n",
    "test_gen = data_model.generator(batch_size=32)"
   ]
  },
  {
   "cell_type": "code",
   "execution_count": 10,
   "metadata": {},
   "outputs": [
    {
     "name": "stdout",
     "output_type": "stream",
     "text": [
      "Model: \"sequential_2\"\n",
      "_________________________________________________________________\n",
      "Layer (type)                 Output Shape              Param #   \n",
      "=================================================================\n",
      "Layer_1 (Dense)              (None, 200)               1400      \n",
      "_________________________________________________________________\n",
      "Output_Layer (Dense)         (None, 6)                 1206      \n",
      "=================================================================\n",
      "Total params: 2,606\n",
      "Trainable params: 2,606\n",
      "Non-trainable params: 0\n",
      "_________________________________________________________________\n"
     ]
    }
   ],
   "source": [
    "NN_model = keras.Sequential()\n",
    "NN_model.add(keras.Input(shape=(6,), name=\"Input_Layer\")) \n",
    "NN_model.add(keras.layers.Dense(200, activation='relu', name=f\"Layer_{1}\"))\n",
    "NN_model.add(keras.layers.Dense(6, name=\"Output_Layer\"))\n",
    "NN_model.compile(optimizer=keras.optimizers.Adam(1e-3), loss='mse', metrics=['accuracy'])\n",
    "NN_model.summary()"
   ]
  },
  {
   "cell_type": "code",
   "execution_count": 11,
   "metadata": {},
   "outputs": [
    {
     "name": "stdout",
     "output_type": "stream",
     "text": [
      "Epoch 1/10\n",
      "3/3 [==============================] - ETA: 0s - loss: 0.6106 - accuracy: 0.53 - ETA: 1s - loss: 0.5170 - accuracy: 0.29 - ETA: 0s - loss: 0.5082 - accuracy: 0.23 - 7s 2s/step - loss: 0.5082 - accuracy: 0.2396 - val_loss: 0.4361 - val_accuracy: 0.1660\n",
      "Epoch 2/10\n",
      "3/3 [==============================] - ETA: 0s - loss: 0.4330 - accuracy: 0.12 - ETA: 0s - loss: 0.3824 - accuracy: 0.12 - ETA: 0s - loss: 0.3946 - accuracy: 0.08 - 4s 1s/step - loss: 0.3946 - accuracy: 0.0833 - val_loss: 0.3569 - val_accuracy: 0.1670\n",
      "Epoch 3/10\n",
      "3/3 [==============================] - ETA: 0s - loss: 0.4171 - accuracy: 0.0000e+ - ETA: 1s - loss: 0.3745 - accuracy: 0.0625   - ETA: 0s - loss: 0.3467 - accuracy: 0.07 - 6s 2s/step - loss: 0.3467 - accuracy: 0.0729 - val_loss: 0.2904 - val_accuracy: 0.1760\n",
      "Epoch 4/10\n",
      "3/3 [==============================] - ETA: 0s - loss: 0.2776 - accuracy: 0.03 - ETA: 1s - loss: 0.2659 - accuracy: 0.15 - ETA: 0s - loss: 0.2679 - accuracy: 0.11 - 7s 2s/step - loss: 0.2679 - accuracy: 0.1146 - val_loss: 0.2348 - val_accuracy: 0.1740\n",
      "Epoch 5/10\n",
      "3/3 [==============================] - ETA: 0s - loss: 0.2171 - accuracy: 0.09 - ETA: 1s - loss: 0.2024 - accuracy: 0.04 - ETA: 0s - loss: 0.1931 - accuracy: 0.08 - 7s 2s/step - loss: 0.1931 - accuracy: 0.0833 - val_loss: 0.1893 - val_accuracy: 0.1720\n",
      "Epoch 6/10\n",
      "3/3 [==============================] - ETA: 0s - loss: 0.1824 - accuracy: 0.0000e+ - ETA: 0s - loss: 0.1645 - accuracy: 0.0625   - ETA: 0s - loss: 0.1568 - accuracy: 0.08 - 4s 1s/step - loss: 0.1568 - accuracy: 0.0833 - val_loss: 0.1536 - val_accuracy: 0.1810\n",
      "Epoch 7/10\n",
      "3/3 [==============================] - ETA: 0s - loss: 0.1314 - accuracy: 0.25 - ETA: 0s - loss: 0.1309 - accuracy: 0.21 - ETA: 0s - loss: 0.1171 - accuracy: 0.19 - 4s 1s/step - loss: 0.1171 - accuracy: 0.1979 - val_loss: 0.1276 - val_accuracy: 0.1810\n",
      "Epoch 8/10\n",
      "3/3 [==============================] - ETA: 0s - loss: 0.1195 - accuracy: 0.09 - ETA: 0s - loss: 0.1182 - accuracy: 0.10 - ETA: 0s - loss: 0.1144 - accuracy: 0.09 - 5s 2s/step - loss: 0.1144 - accuracy: 0.0938 - val_loss: 0.1096 - val_accuracy: 0.1830\n",
      "Epoch 9/10\n",
      "3/3 [==============================] - ETA: 0s - loss: 0.0910 - accuracy: 0.12 - ETA: 0s - loss: 0.0889 - accuracy: 0.20 - ETA: 0s - loss: 0.0848 - accuracy: 0.14 - 4s 1s/step - loss: 0.0848 - accuracy: 0.1458 - val_loss: 0.0985 - val_accuracy: 0.1900\n",
      "Epoch 10/10\n",
      "3/3 [==============================] - ETA: 0s - loss: 0.0949 - accuracy: 0.50 - ETA: 1s - loss: 0.0907 - accuracy: 0.40 - ETA: 0s - loss: 0.0908 - accuracy: 0.33 - 5s 2s/step - loss: 0.0908 - accuracy: 0.3333 - val_loss: 0.0932 - val_accuracy: 0.1840\n"
     ]
    }
   ],
   "source": [
    "history = NN_model.fit_generator(train_gen, steps_per_epoch=96//32, epochs=10, validation_data=(X_train[0:1000], y_train[0:1000]))"
   ]
  },
  {
   "cell_type": "code",
   "execution_count": 12,
   "metadata": {},
   "outputs": [
    {
     "data": {
      "image/png": "[encoded data removed]",
      "text/plain": [
       "<Figure size 720x432 with 4 Axes>"
      ]
     },
     "metadata": {
      "needs_background": "light"
     },
     "output_type": "display_data"
    }
   ],
   "source": [
    "hist = history.history \n",
    "fig, axes = plt.subplots(len(hist), 1)\n",
    "for el, ax in zip(hist, axes): \n",
    "    ax.plot(hist[el])\n",
    "    ax.set_title(el)\n",
    "    \n",
    "fig.set_figheight(6)\n",
    "fig.set_figwidth(10)\n",
    "fig.tight_layout(h_pad=-0.2)\n",
    "plt.show()    "
   ]
  },
  {
   "cell_type": "code",
   "execution_count": 13,
   "metadata": {},
   "outputs": [],
   "source": [
    "from evaluate_NN import TestNN \n",
    "test = TestNN(NN_model, model, data_model)"
   ]
  },
  {
   "cell_type": "code",
   "execution_count": 16,
   "metadata": {},
   "outputs": [
    {
     "data": {
      "image/png": "[encoded data removed]",
      "text/plain": [
       "<Figure size 720x720 with 6 Axes>"
      ]
     },
     "metadata": {
      "needs_background": "light"
     },
     "output_type": "display_data"
    }
   ],
   "source": [
    "y_NN, y_pred = test.find_theta_one()\n",
    "fig, axes = plt.subplots(len(y_NN[0]))\n",
    "names = [\"Cm\", \"Cc\", \"hA_m2c\", \"hA_m2env\", \"hA_eff\", \"mda\"]\n",
    "n_steps = np.linspace(1, len(y_pred), len(y_pred))\n",
    "y_pred_plot = data_model.y_scaler.inverse_transform(y_pred)\n",
    "for ax, name, th_pred, th_real in zip(axes, names, y_pred_plot.T, y_NN.T):\n",
    "    ax.set_title(name)\n",
    "    ax.plot(n_steps, th_pred, label=name+\" predicted\")\n",
    "    ax.plot(n_steps, th_real, label=name+\" real\")\n",
    "    ax.legend() \n",
    "    ax.grid()\n",
    "    \n",
    "fig.set_figwidth(10)\n",
    "fig.set_figheight(10)\n",
    "fig.tight_layout(h_pad=-0.2)"
   ]
  },
  {
   "cell_type": "code",
   "execution_count": 18,
   "metadata": {},
   "outputs": [
    {
     "data": {
      "text/plain": [
       "array([[7.81446242e+02, 7.81446242e+02, 7.81446242e+02, 7.81446242e+02,\n",
       "        7.81446242e+02, 7.81446242e+02, 7.81446242e+02, 7.81446242e+02,\n",
       "        7.81446242e+02, 7.81446242e+02, 7.81446242e+02, 7.81446242e+02,\n",
       "        7.81446242e+02, 7.81446242e+02, 7.81446242e+02, 7.81446242e+02,\n",
       "        7.81446242e+02, 7.81446242e+02, 7.81446242e+02, 7.81446242e+02,\n",
       "        7.81446242e+02, 7.81446242e+02, 7.81446242e+02, 7.81446242e+02,\n",
       "        7.81446242e+02, 7.81446242e+02, 7.81446242e+02, 7.81446242e+02,\n",
       "        7.81446242e+02, 7.81446242e+02],\n",
       "       [2.46136742e+02, 2.46136742e+02, 2.46136742e+02, 2.46136742e+02,\n",
       "        2.46136742e+02, 2.46136742e+02, 2.46136742e+02, 2.46136742e+02,\n",
       "        2.46136742e+02, 2.46136742e+02, 2.46136742e+02, 2.46136742e+02,\n",
       "        2.46136742e+02, 2.46136742e+02, 2.46136742e+02, 2.46136742e+02,\n",
       "        2.46136742e+02, 2.46136742e+02, 2.46136742e+02, 2.46136742e+02,\n",
       "        2.46136742e+02, 2.46136742e+02, 2.46136742e+02, 2.46136742e+02,\n",
       "        2.46136742e+02, 2.46136742e+02, 2.46136742e+02, 2.46136742e+02,\n",
       "        2.46136742e+02, 2.46136742e+02],\n",
       "       [1.81483019e+01, 1.81483019e+01, 1.81483019e+01, 1.81483019e+01,\n",
       "        1.81483019e+01, 1.81483019e+01, 1.81483019e+01, 1.81483019e+01,\n",
       "        1.81483019e+01, 1.81483019e+01, 1.81483019e+01, 1.81483019e+01,\n",
       "        1.81483019e+01, 1.81483019e+01, 1.81483019e+01, 1.81483019e+01,\n",
       "        1.81483019e+01, 1.81483019e+01, 1.81483019e+01, 1.81483019e+01,\n",
       "        1.81483019e+01, 1.81483019e+01, 1.81483019e+01, 1.81483019e+01,\n",
       "        1.81483019e+01, 1.81483019e+01, 1.81483019e+01, 1.81483019e+01,\n",
       "        1.81483019e+01, 1.81483019e+01],\n",
       "       [7.33901703e-01, 7.33901703e-01, 7.33901703e-01, 7.33901703e-01,\n",
       "        7.33901703e-01, 7.33901703e-01, 7.33901703e-01, 7.33901703e-01,\n",
       "        7.33901703e-01, 7.33901703e-01, 7.33901703e-01, 7.33901703e-01,\n",
       "        7.33901703e-01, 7.33901703e-01, 7.33901703e-01, 7.33901703e-01,\n",
       "        7.33901703e-01, 7.33901703e-01, 7.33901703e-01, 7.33901703e-01,\n",
       "        7.33901703e-01, 7.33901703e-01, 7.33901703e-01, 7.33901703e-01,\n",
       "        7.33901703e-01, 7.33901703e-01, 7.33901703e-01, 7.33901703e-01,\n",
       "        7.33901703e-01, 7.33901703e-01],\n",
       "       [2.02066455e+00, 2.02066455e+00, 2.02066455e+00, 2.02066455e+00,\n",
       "        2.02066455e+00, 2.02066455e+00, 2.02066455e+00, 2.02066455e+00,\n",
       "        2.02066455e+00, 2.02066455e+00, 2.02066455e+00, 2.02066455e+00,\n",
       "        2.02066455e+00, 2.02066455e+00, 2.02066455e+00, 2.02066455e+00,\n",
       "        2.02066455e+00, 2.02066455e+00, 2.02066455e+00, 2.02066455e+00,\n",
       "        2.02066455e+00, 2.02066455e+00, 2.02066455e+00, 2.02066455e+00,\n",
       "        2.02066455e+00, 2.02066455e+00, 2.02066455e+00, 2.02066455e+00,\n",
       "        2.02066455e+00, 2.02066455e+00],\n",
       "       [3.11052656e-01, 3.11052656e-01, 3.11052656e-01, 3.11052656e-01,\n",
       "        3.11052656e-01, 3.11052656e-01, 3.11052656e-01, 3.11052656e-01,\n",
       "        3.11052656e-01, 3.11052656e-01, 3.11052656e-01, 3.11052656e-01,\n",
       "        3.11052656e-01, 3.11052656e-01, 3.11052656e-01, 3.11052656e-01,\n",
       "        3.11052656e-01, 3.11052656e-01, 3.11052656e-01, 3.11052656e-01,\n",
       "        3.11052656e-01, 3.11052656e-01, 3.11052656e-01, 3.11052656e-01,\n",
       "        3.11052656e-01, 3.11052656e-01, 3.11052656e-01, 3.11052656e-01,\n",
       "        3.11052656e-01, 3.11052656e-01]])"
      ]
     },
     "execution_count": 18,
     "metadata": {},
     "output_type": "execute_result"
    }
   ],
   "source": [
    "y_NN.T"
   ]
  },
  {
   "cell_type": "code",
   "execution_count": null,
   "metadata": {},
   "outputs": [],
   "source": []
  },
  {
   "cell_type": "code",
   "execution_count": null,
   "metadata": {},
   "outputs": [],
   "source": []
  }
 ],
 "metadata": {
  "kernelspec": {
   "display_name": "Python 3",
   "language": "python",
   "name": "python3"
  },
  "language_info": {
   "codemirror_mode": {
    "name": "ipython",
    "version": 3
   },
   "file_extension": ".py",
   "mimetype": "text/x-python",
   "name": "python",
   "nbconvert_exporter": "python",
   "pygments_lexer": "ipython3",
   "version": "3.8.3"
  }
 },
 "nbformat": 4,
 "nbformat_minor": 4
}
