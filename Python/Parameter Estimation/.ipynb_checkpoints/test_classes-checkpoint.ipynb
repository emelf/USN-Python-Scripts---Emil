{
 "cells": [
  {
   "cell_type": "code",
   "execution_count": 1,
   "metadata": {},
   "outputs": [],
   "source": [
    "import numpy as np \n",
    "from data_and_models import dynamical_model, generate_data, handle_NNs\n",
    "import pickle \n",
    "import matplotlib.pyplot as plt "
   ]
  },
  {
   "cell_type": "code",
   "execution_count": 2,
   "metadata": {},
   "outputs": [],
   "source": [
    "#x = [T_m, T_c]\n",
    "#u = [Q_in, T_env]\n",
    "#theta = [C_m, C_c, hA_m2c, hA_m2env, hA_eff, mda]\n",
    "\n",
    "chp_air = 1000 \n",
    "Q_HE = lambda x, u, theta: theta[5]*chp_air*(1-np.exp(-theta[4]/(theta[5]*chp_air)))*(x[1]-u[1])\n",
    "dTm_dt = lambda x, u, theta: (u[0]-theta[2]*(x[0]-x[1])-theta[3]*(x[0]-u[1]))/theta[0]\n",
    "dTc_dt = lambda x, u, theta: (theta[2]*(x[0]-x[1])-Q_HE(x,u,theta))/theta[1]\n",
    "\n",
    "dxdt = lambda x,u,theta: np.array([dTm_dt(x,u,theta), dTc_dt(x,u,theta)])\n",
    "f_x = lambda x,u,theta: np.array([Q_HE(x,u,theta)])\n"
   ]
  },
  {
   "cell_type": "code",
   "execution_count": 3,
   "metadata": {},
   "outputs": [],
   "source": [
    "x0_range = [(20, 60), (20, 60)]\n",
    "u_range = [(0, 30), (20, 30)]\n",
    "theta_range = [(100, 800), (40, 400), (5,20), (0.1,1), (1,5), (0.3, 1.2)]\n",
    "\n",
    "model = dynamical_model(dxdt, f_x)\n",
    "model.setup(0, 60, 600, 20, x0_range, u_range, theta_range)"
   ]
  },
  {
   "cell_type": "code",
   "execution_count": 4,
   "metadata": {},
   "outputs": [],
   "source": [
    "data_model = generate_data(model) "
   ]
  },
  {
   "cell_type": "code",
   "execution_count": 5,
   "metadata": {},
   "outputs": [],
   "source": [
    "X_NN, y_NN = data_model.load_data(\"test_x_data.npy\", \"test_y_data.npy\")"
   ]
  },
  {
   "cell_type": "code",
   "execution_count": 6,
   "metadata": {},
   "outputs": [],
   "source": [
    "X_train, X_test, y_train, y_test, X_NN_scaled, y_NN_scaled = data_model.prepare_data(X_NN, y_NN)"
   ]
  },
  {
   "cell_type": "code",
   "execution_count": 7,
   "metadata": {},
   "outputs": [
    {
     "name": "stdout",
     "output_type": "stream",
     "text": [
      "Model: \"sequential\"\n",
      "_________________________________________________________________\n",
      "Layer (type)                 Output Shape              Param #   \n",
      "=================================================================\n",
      "Layer_0 (Dense)              (None, 50)                350       \n",
      "_________________________________________________________________\n",
      "Dropout_0 (Dropout)          (None, 50)                0         \n",
      "_________________________________________________________________\n",
      "Output_Layer (Dense)         (None, 6)                 306       \n",
      "=================================================================\n",
      "Total params: 656\n",
      "Trainable params: 656\n",
      "Non-trainable params: 0\n",
      "_________________________________________________________________\n"
     ]
    }
   ],
   "source": [
    "#Testing class handle_NNs \n",
    "handler = handle_NNs(6, 6, node_limit=(10, 100), layer_limit=(1, 4), N_models=50)\n",
    "test_model = handler.make_NN(1, 50)\n",
    "test_model.summary()"
   ]
  },
  {
   "cell_type": "code",
   "execution_count": 8,
   "metadata": {},
   "outputs": [],
   "source": [
    "models,_ = handler.make_range_NN(N_nodes=(40, 1000), N_layers=(1, 4), N_net=40) "
   ]
  },
  {
   "cell_type": "code",
   "execution_count": 12,
   "metadata": {},
   "outputs": [
    {
     "name": "stdout",
     "output_type": "stream",
     "text": [
      "Working on NN 1 of 40\n",
      "Working on NN 2 of 40\n",
      "Working on NN 3 of 40\n",
      "Working on NN 4 of 40\n",
      "Working on NN 5 of 40\n",
      "Working on NN 6 of 40\n",
      "Working on NN 7 of 40\n",
      "Working on NN 8 of 40\n",
      "Working on NN 9 of 40\n",
      "Working on NN 10 of 40\n",
      "Working on NN 11 of 40\n",
      "Working on NN 12 of 40\n",
      "Working on NN 13 of 40\n",
      "Working on NN 14 of 40\n",
      "Working on NN 15 of 40\n",
      "Working on NN 16 of 40\n",
      "Working on NN 17 of 40\n",
      "Working on NN 18 of 40\n",
      "Working on NN 19 of 40\n",
      "Working on NN 20 of 40\n",
      "Working on NN 21 of 40\n",
      "Working on NN 22 of 40\n",
      "Working on NN 23 of 40\n",
      "Working on NN 24 of 40\n",
      "Working on NN 25 of 40\n",
      "Working on NN 26 of 40\n",
      "Working on NN 27 of 40\n",
      "Working on NN 28 of 40\n",
      "Working on NN 29 of 40\n",
      "Working on NN 30 of 40\n",
      "Working on NN 31 of 40\n",
      "Working on NN 32 of 40\n",
      "Working on NN 33 of 40\n",
      "Working on NN 34 of 40\n",
      "Working on NN 35 of 40\n",
      "Working on NN 36 of 40\n",
      "Working on NN 37 of 40\n",
      "Working on NN 38 of 40\n",
      "Working on NN 39 of 40\n",
      "Working on NN 40 of 40\n"
     ]
    }
   ],
   "source": [
    "res = handler.find_opt_hyperparams(X_train, y_train, N_nodes=(40, 1000), N_layers=(1, 4), N_net=40, epochs=4)"
   ]
  },
  {
   "cell_type": "code",
   "execution_count": 13,
   "metadata": {},
   "outputs": [
    {
     "name": "stdout",
     "output_type": "stream",
     "text": [
      "The rankings of the Neural Networks are :\n",
      "NN_28 with a loss of 0.07769977301359177. Nodes = 893, layers = 3\n",
      "NN_26 with a loss of 0.07773622125387192. Nodes = 680, layers = 3\n",
      "NN_27 with a loss of 0.07800718396902084. Nodes = 786, layers = 3\n",
      "NN_36 with a loss of 0.07824929058551788. Nodes = 680, layers = 4\n",
      "NN_29 with a loss of 0.0783461481332779. Nodes = 1000, layers = 3\n",
      "NN_25 with a loss of 0.07835204154253006. Nodes = 573, layers = 3\n",
      "NN_39 with a loss of 0.07849113643169403. Nodes = 1000, layers = 4\n",
      "NN_38 with a loss of 0.07864828407764435. Nodes = 893, layers = 4\n",
      "NN_22 with a loss of 0.07890530675649643. Nodes = 253, layers = 3\n",
      "NN_37 with a loss of 0.07892707735300064. Nodes = 786, layers = 4\n",
      "NN_24 with a loss of 0.07899708300828934. Nodes = 466, layers = 3\n",
      "NN_35 with a loss of 0.07902029901742935. Nodes = 573, layers = 4\n",
      "NN_32 with a loss of 0.07924790680408478. Nodes = 253, layers = 4\n",
      "NN_34 with a loss of 0.07925824075937271. Nodes = 466, layers = 4\n",
      "NN_33 with a loss of 0.079410620033741. Nodes = 360, layers = 4\n",
      "NN_13 with a loss of 0.0797947347164154. Nodes = 360, layers = 2\n",
      "NN_17 with a loss of 0.07987956702709198. Nodes = 786, layers = 2\n",
      "NN_18 with a loss of 0.07991698384284973. Nodes = 893, layers = 2\n",
      "NN_15 with a loss of 0.07998459041118622. Nodes = 573, layers = 2\n",
      "NN_16 with a loss of 0.08021073788404465. Nodes = 680, layers = 2\n",
      "NN_23 with a loss of 0.08029236644506454. Nodes = 360, layers = 3\n",
      "NN_19 with a loss of 0.08034321665763855. Nodes = 1000, layers = 2\n",
      "NN_14 with a loss of 0.08106894046068192. Nodes = 466, layers = 2\n",
      "NN_31 with a loss of 0.0812356248497963. Nodes = 146, layers = 4\n",
      "NN_12 with a loss of 0.08153688162565231. Nodes = 253, layers = 2\n",
      "NN_21 with a loss of 0.082271046936512. Nodes = 146, layers = 3\n",
      "NN_11 with a loss of 0.08234907686710358. Nodes = 146, layers = 2\n",
      "NN_8 with a loss of 0.08247064799070358. Nodes = 893, layers = 1\n",
      "NN_9 with a loss of 0.08247937262058258. Nodes = 1000, layers = 1\n",
      "NN_7 with a loss of 0.0825207307934761. Nodes = 786, layers = 1\n",
      "NN_6 with a loss of 0.0827166810631752. Nodes = 680, layers = 1\n",
      "NN_4 with a loss of 0.08272547274827957. Nodes = 466, layers = 1\n",
      "NN_3 with a loss of 0.08295886218547821. Nodes = 360, layers = 1\n",
      "NN_5 with a loss of 0.08298298716545105. Nodes = 573, layers = 1\n",
      "NN_2 with a loss of 0.08312269300222397. Nodes = 253, layers = 1\n",
      "NN_1 with a loss of 0.0841669887304306. Nodes = 146, layers = 1\n",
      "NN_20 with a loss of 0.086074598133564. Nodes = 40, layers = 3\n",
      "NN_30 with a loss of 0.08626210689544678. Nodes = 40, layers = 4\n",
      "NN_10 with a loss of 0.08628985285758972. Nodes = 40, layers = 2\n",
      "NN_0 with a loss of 0.08729156851768494. Nodes = 40, layers = 1\n"
     ]
    }
   ],
   "source": [
    "res_opt = handler.sort_results()"
   ]
  },
  {
   "cell_type": "code",
   "execution_count": 14,
   "metadata": {},
   "outputs": [
    {
     "data": {
      "image/png": "[encoded data removed]",
      "text/plain": [
       "<Figure size 432x288 with 1 Axes>"
      ]
     },
     "metadata": {
      "needs_background": "light"
     },
     "output_type": "display_data"
    }
   ],
   "source": [
    "handler.plot_opt_NNs(N_plots=5)"
   ]
  },
  {
   "cell_type": "code",
   "execution_count": 13,
   "metadata": {},
   "outputs": [],
   "source": [
    "NN = models[0]"
   ]
  },
  {
   "cell_type": "code",
   "execution_count": 30,
   "metadata": {},
   "outputs": [
    {
     "data": {
      "text/plain": [
       "([], [], [])"
      ]
     },
     "execution_count": 30,
     "metadata": {},
     "output_type": "execute_result"
    }
   ],
   "source": [
    "handler.make_range_NN(N_nodes=(10, 50), N_layers=(1, 3), N_net=10) "
   ]
  },
  {
   "cell_type": "code",
   "execution_count": 7,
   "metadata": {},
   "outputs": [],
   "source": [
    "from tensorflow import keras\n",
    "from tensorflow.keras import layers\n",
    "from kerastuner.tuners import RandomSearch\n",
    "from data_and_models import handle_NNs \n",
    "from data_and_models import dynamical_model, generate_data, handle_NNs\n",
    "\n",
    "\n",
    "data_model = generate_data(model) \n",
    "X_NN, y_NN = data_model.load_data(\"test_x_data.npy\", \"test_y_data.npy\")\n",
    "X_train, X_test, y_train, y_test, X_NN_scaled, y_NN_scaled = data_model.prepare_data(X_NN, y_NN)\n",
    "\n",
    "handler = handle_NNs(6, 6)"
   ]
  },
  {
   "cell_type": "code",
   "execution_count": 9,
   "metadata": {},
   "outputs": [],
   "source": [
    "tuner = RandomSearch(\n",
    "    handler.build_model,\n",
    "    objective='val_accuracy',\n",
    "    max_trials=5,\n",
    "    executions_per_trial=3,\n",
    "    directory='my_dir',\n",
    "    project_name='helloworld')"
   ]
  },
  {
   "cell_type": "code",
   "execution_count": 10,
   "metadata": {},
   "outputs": [
    {
     "data": {
      "text/html": [
       "<span style=\"color:#4527A0\"><h1 style=\"font-size:18px\">Search space summary</h1></span>"
      ],
      "text/plain": [
       "<IPython.core.display.HTML object>"
      ]
     },
     "metadata": {},
     "output_type": "display_data"
    },
    {
     "data": {
      "text/html": [
       "<span style=\"color:cyan\"> |-Default search space size: 3</span>"
      ],
      "text/plain": [
       "<IPython.core.display.HTML object>"
      ]
     },
     "metadata": {},
     "output_type": "display_data"
    },
    {
     "data": {
      "text/html": [
       "<span style=\"color:#7E57C2\"><h2 style=\"font-size:16px\">n_starting_nodes (Int)</h2></span>"
      ],
      "text/plain": [
       "<IPython.core.display.HTML object>"
      ]
     },
     "metadata": {},
     "output_type": "display_data"
    },
    {
     "data": {
      "text/html": [
       "<span style=\"color:cyan\"> |-default: None</span>"
      ],
      "text/plain": [
       "<IPython.core.display.HTML object>"
      ]
     },
     "metadata": {},
     "output_type": "display_data"
    },
    {
     "data": {
      "text/html": [
       "<span style=\"color:blue\"> |-max_value: 2048</span>"
      ],
      "text/plain": [
       "<IPython.core.display.HTML object>"
      ]
     },
     "metadata": {},
     "output_type": "display_data"
    },
    {
     "data": {
      "text/html": [
       "<span style=\"color:cyan\"> |-min_value: 32</span>"
      ],
      "text/plain": [
       "<IPython.core.display.HTML object>"
      ]
     },
     "metadata": {},
     "output_type": "display_data"
    },
    {
     "data": {
      "text/html": [
       "<span style=\"color:blue\"> |-sampling: None</span>"
      ],
      "text/plain": [
       "<IPython.core.display.HTML object>"
      ]
     },
     "metadata": {},
     "output_type": "display_data"
    },
    {
     "data": {
      "text/html": [
       "<span style=\"color:cyan\"> |-step: 32</span>"
      ],
      "text/plain": [
       "<IPython.core.display.HTML object>"
      ]
     },
     "metadata": {},
     "output_type": "display_data"
    },
    {
     "data": {
      "text/html": [
       "<span style=\"color:#7E57C2\"><h2 style=\"font-size:16px\">n_layers (Int)</h2></span>"
      ],
      "text/plain": [
       "<IPython.core.display.HTML object>"
      ]
     },
     "metadata": {},
     "output_type": "display_data"
    },
    {
     "data": {
      "text/html": [
       "<span style=\"color:cyan\"> |-default: None</span>"
      ],
      "text/plain": [
       "<IPython.core.display.HTML object>"
      ]
     },
     "metadata": {},
     "output_type": "display_data"
    },
    {
     "data": {
      "text/html": [
       "<span style=\"color:blue\"> |-max_value: 10</span>"
      ],
      "text/plain": [
       "<IPython.core.display.HTML object>"
      ]
     },
     "metadata": {},
     "output_type": "display_data"
    },
    {
     "data": {
      "text/html": [
       "<span style=\"color:cyan\"> |-min_value: 1</span>"
      ],
      "text/plain": [
       "<IPython.core.display.HTML object>"
      ]
     },
     "metadata": {},
     "output_type": "display_data"
    },
    {
     "data": {
      "text/html": [
       "<span style=\"color:blue\"> |-sampling: None</span>"
      ],
      "text/plain": [
       "<IPython.core.display.HTML object>"
      ]
     },
     "metadata": {},
     "output_type": "display_data"
    },
    {
     "data": {
      "text/html": [
       "<span style=\"color:cyan\"> |-step: 1</span>"
      ],
      "text/plain": [
       "<IPython.core.display.HTML object>"
      ]
     },
     "metadata": {},
     "output_type": "display_data"
    },
    {
     "data": {
      "text/html": [
       "<span style=\"color:#7E57C2\"><h2 style=\"font-size:16px\">learning_rate (Choice)</h2></span>"
      ],
      "text/plain": [
       "<IPython.core.display.HTML object>"
      ]
     },
     "metadata": {},
     "output_type": "display_data"
    },
    {
     "data": {
      "text/html": [
       "<span style=\"color:cyan\"> |-default: 0.01</span>"
      ],
      "text/plain": [
       "<IPython.core.display.HTML object>"
      ]
     },
     "metadata": {},
     "output_type": "display_data"
    },
    {
     "data": {
      "text/html": [
       "<span style=\"color:blue\"> |-ordered: True</span>"
      ],
      "text/plain": [
       "<IPython.core.display.HTML object>"
      ]
     },
     "metadata": {},
     "output_type": "display_data"
    },
    {
     "data": {
      "text/html": [
       "<span style=\"color:cyan\"> |-values: [0.01, 0.001, 0.0001]</span>"
      ],
      "text/plain": [
       "<IPython.core.display.HTML object>"
      ]
     },
     "metadata": {},
     "output_type": "display_data"
    }
   ],
   "source": [
    "tuner.search_space_summary()"
   ]
  },
  {
   "cell_type": "code",
   "execution_count": null,
   "metadata": {},
   "outputs": [],
   "source": [
    "tuner.search(X_train, y_train, epochs=5, validation_data=(X_test, y_test))"
   ]
  }
 ],
 "metadata": {
  "kernelspec": {
   "display_name": "Python 3",
   "language": "python",
   "name": "python3"
  },
  "language_info": {
   "codemirror_mode": {
    "name": "ipython",
    "version": 3
   },
   "file_extension": ".py",
   "mimetype": "text/x-python",
   "name": "python",
   "nbconvert_exporter": "python",
   "pygments_lexer": "ipython3",
   "version": "3.8.3"
  }
 },
 "nbformat": 4,
 "nbformat_minor": 4
}
