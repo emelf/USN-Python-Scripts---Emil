{
 "cells": [
  {
   "cell_type": "code",
   "execution_count": 1,
   "metadata": {},
   "outputs": [],
   "source": [
    "import numpy as np \n",
    "from data_and_models import dynamical_model, generate_data, handle_NNs\n",
    "import pickle \n",
    "import matplotlib.pyplot as plt "
   ]
  },
  {
   "cell_type": "code",
   "execution_count": 2,
   "metadata": {},
   "outputs": [],
   "source": [
    "#x = [T_m, T_c]\n",
    "#u = [Q_in, T_env]\n",
    "#theta = [C_m, C_c, hA_m2c, hA_m2env, hA_eff, mda]\n",
    "\n",
    "chp_air = 1000 \n",
    "Q_HE = lambda x, u, theta: theta[5]*chp_air*(1-np.exp(-theta[4]/(theta[5]*chp_air)))*(x[1]-u[1])\n",
    "dTm_dt = lambda x, u, theta: (u[0]-theta[2]*(x[0]-x[1])-theta[3]*(x[0]-u[1]))/theta[0]\n",
    "dTc_dt = lambda x, u, theta: (theta[2]*(x[0]-x[1])-Q_HE(x,u,theta))/theta[1]\n",
    "\n",
    "dxdt = lambda x,u,theta: np.array([dTm_dt(x,u,theta), dTc_dt(x,u,theta)])\n",
    "f_x = lambda x,u,theta: np.array([Q_HE(x,u,theta)])\n"
   ]
  },
  {
   "cell_type": "code",
   "execution_count": 3,
   "metadata": {},
   "outputs": [],
   "source": [
    "x0_range = [(20, 60), (20, 60)]\n",
    "u_range = [(0, 30), (20, 30)]\n",
    "theta_range = [(100, 800), (40, 400), (5,20), (0.1,1), (1,5), (0.3, 1.2)]\n",
    "\n",
    "model = dynamical_model(dxdt, f_x)\n",
    "model.setup(0, 60, 600, 20, x0_range, u_range, theta_range)"
   ]
  },
  {
   "cell_type": "code",
   "execution_count": 4,
   "metadata": {},
   "outputs": [],
   "source": [
    "data_model = generate_data(model) "
   ]
  },
  {
   "cell_type": "code",
   "execution_count": 5,
   "metadata": {},
   "outputs": [],
   "source": [
    "X_NN, y_NN = data_model.load_data(\"test_x_data.npy\", \"test_y_data.npy\")"
   ]
  },
  {
   "cell_type": "code",
   "execution_count": 6,
   "metadata": {},
   "outputs": [],
   "source": [
    "X_train, X_test, y_train, y_test, X_NN_scaled, y_NN_scaled = data_model.prepare_data(X_NN, y_NN)"
   ]
  },
  {
   "cell_type": "code",
   "execution_count": 7,
   "metadata": {},
   "outputs": [
    {
     "name": "stdout",
     "output_type": "stream",
     "text": [
      "Model: \"sequential\"\n",
      "_________________________________________________________________\n",
      "Layer (type)                 Output Shape              Param #   \n",
      "=================================================================\n",
      "Layer_0 (Dense)              (None, 50)                350       \n",
      "_________________________________________________________________\n",
      "Dropout_0 (Dropout)          (None, 50)                0         \n",
      "_________________________________________________________________\n",
      "Output_Layer (Dense)         (None, 6)                 306       \n",
      "=================================================================\n",
      "Total params: 656\n",
      "Trainable params: 656\n",
      "Non-trainable params: 0\n",
      "_________________________________________________________________\n"
     ]
    }
   ],
   "source": [
    "#Testing class handle_NNs \n",
    "handler = handle_NNs(6, 6, node_limit=(10, 100), layer_limit=(1, 4), N_models=50)\n",
    "test_model = handler.make_NN(1, 50)\n",
    "test_model.summary()"
   ]
  },
  {
   "cell_type": "code",
   "execution_count": 8,
   "metadata": {},
   "outputs": [],
   "source": [
    "models,_ = handler.make_range_NN(N_nodes=(40, 1000), N_layers=(1, 4), N_net=40) "
   ]
  },
  {
   "cell_type": "code",
   "execution_count": null,
   "metadata": {},
   "outputs": [
    {
     "name": "stdout",
     "output_type": "stream",
     "text": [
      "Working on NN 1 of 40\n",
      "Working on NN 2 of 40\n",
      "Working on NN 3 of 40\n",
      "Working on NN 4 of 40\n",
      "Working on NN 5 of 40\n",
      "Working on NN 6 of 40\n",
      "Working on NN 7 of 40\n",
      "Working on NN 8 of 40\n",
      "Working on NN 9 of 40\n",
      "Working on NN 10 of 40\n",
      "Working on NN 11 of 40\n",
      "Working on NN 12 of 40\n",
      "Working on NN 13 of 40\n",
      "Working on NN 14 of 40\n",
      "Working on NN 15 of 40\n",
      "Working on NN 16 of 40\n",
      "Working on NN 17 of 40\n",
      "Working on NN 18 of 40\n",
      "Working on NN 19 of 40\n"
     ]
    }
   ],
   "source": [
    "res = handler.find_opt_hyperparams(X_train, y_train, N_nodes=(40, 1000), N_layers=(1, 4), N_net=40, epochs=4)"
   ]
  },
  {
   "cell_type": "code",
   "execution_count": null,
   "metadata": {},
   "outputs": [],
   "source": [
    "res_opt = handler.sort_results()"
   ]
  },
  {
   "cell_type": "code",
   "execution_count": null,
   "metadata": {},
   "outputs": [],
   "source": [
    "handler.plot_opt_NNs(N_plots=5)"
   ]
  },
  {
   "cell_type": "code",
   "execution_count": 13,
   "metadata": {},
   "outputs": [],
   "source": [
    "NN = models[0]"
   ]
  },
  {
   "cell_type": "code",
   "execution_count": 30,
   "metadata": {},
   "outputs": [
    {
     "data": {
      "text/plain": [
       "([], [], [])"
      ]
     },
     "execution_count": 30,
     "metadata": {},
     "output_type": "execute_result"
    }
   ],
   "source": [
    "handler.make_range_NN(N_nodes=(10, 50), N_layers=(1, 3), N_net=10) "
   ]
  },
  {
   "cell_type": "code",
   "execution_count": 29,
   "metadata": {},
   "outputs": [],
   "source": [
    "r"
   ]
  }
 ],
 "metadata": {
  "kernelspec": {
   "display_name": "Python 3",
   "language": "python",
   "name": "python3"
  },
  "language_info": {
   "codemirror_mode": {
    "name": "ipython",
    "version": 3
   },
   "file_extension": ".py",
   "mimetype": "text/x-python",
   "name": "python",
   "nbconvert_exporter": "python",
   "pygments_lexer": "ipython3",
   "version": "3.8.3"
  }
 },
 "nbformat": 4,
 "nbformat_minor": 4
}
